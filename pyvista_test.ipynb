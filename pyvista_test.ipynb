{
 "cells": [
  {
   "cell_type": "markdown",
   "id": "b433dd42-8bcd-414b-8f39-faf40e805a8d",
   "metadata": {},
   "source": [
    "*Liquid smooth and crystal clear... is the hope!*"
   ]
  },
  {
   "cell_type": "markdown",
   "id": "4a5651ae-cf5c-4b55-81db-20baa4d2756e",
   "metadata": {
    "extensions": {
     "jupyter_dashboards": {
      "activeView": "grid_default",
      "views": {
       "grid_default": {
        "col": null,
        "height": 2,
        "hidden": true,
        "row": null,
        "width": 2
       }
      }
     }
    }
   },
   "source": [
    "## Installation: Python environment\n",
    "\n",
    "With python3.9 the following commands in the command line should create an environment sufficient to run this notebook.\n",
    "\n",
    "```\n",
    "    envname=\"Qmin-vis-env\"   \n",
    "    python3 -m venv \"$envname\"\n",
    "    source \"$envname\"/bin/activate  \n",
    "    python3 -m pip install pandas pyvistaqt jupyterlab PyQt5 tqdm\n",
    "    python3 -m ipykernel install --name=\"$envname\" --user\n",
    "```    \n",
    "\n",
    "(This assumes `python3` points to an installation of python3.9. I'm not sure about other versions yet but it looks like python3.10 is not working as of 10/27/21. You may have to open jupyter lab as `python3 -m jupyter lab`.)"
   ]
  },
  {
   "cell_type": "code",
   "execution_count": 1,
   "id": "698cec58-426c-4a0c-be93-2a41a8e4753a",
   "metadata": {
    "extensions": {
     "jupyter_dashboards": {
      "activeView": "grid_default",
      "views": {
       "grid_default": {
        "col": null,
        "height": 2,
        "hidden": true,
        "row": null,
        "width": 2
       }
      }
     }
    }
   },
   "outputs": [],
   "source": [
    "import numpy as np\n",
    "from pandas import read_csv\n",
    "from qtpy import QtWidgets as qw\n",
    "import qtpy.QtCore as Qt\n",
    "import pyvista as pv\n",
    "import pyvistaqt as pvqt\n"
   ]
  },
  {
   "cell_type": "code",
   "execution_count": 77,
   "id": "44d2ce96-1cfe-4aa7-b526-7f67b4f795ea",
   "metadata": {
    "extensions": {
     "jupyter_dashboards": {
      "activeView": "grid_default",
      "views": {
       "grid_default": {
        "col": null,
        "height": 2,
        "hidden": true,
        "row": null,
        "width": 2
       }
      }
     }
    },
    "tags": []
   },
   "outputs": [],
   "source": [
    "class Qmin_plot(pvqt.BackgroundPlotter):\n",
    "    def __init__(self, filenames=[], user_settings={}):\n",
    "        super().__init__()\n",
    "        self.data = []\n",
    "        self.fullmeshes = []\n",
    "        self.set_settings(user_settings)\n",
    "        self.color_defects_by_L24 = False\n",
    "        self.widgets = {}\n",
    "        self.slices = {}\n",
    "        self.isosurfaces = {}\n",
    "        self.visibility_checkboxes = {}\n",
    "        self.QSliders_labels = {}\n",
    "        self.QSliders_updaters = {}   \n",
    "        self.colors = {}\n",
    "        self.refresh_functions = {}\n",
    "        self.colorbars = {}\n",
    "        self.elements = self.renderer.actors\n",
    "        pv.global_theme.title = \"open-ViewMin nematic visualization environment\"                \n",
    "        self.rescale_lights_intensity(16)\n",
    "        self.renderer.add_axes(interactive=True, color='black') # xyz axes arrows\n",
    "        self.renderer.set_background(\"white\")              \n",
    "        self.enable_eye_dome_lighting() \n",
    "        self.director_resolution = self.settings[\"director_resolution\"]\n",
    "        self.finished_setup = False\n",
    "        \n",
    "        if type(filenames) is str:\n",
    "            filenames = [filenames]\n",
    "        if len(filenames)>0:\n",
    "            self.read(filenames) # reads data files into self.data\n",
    "            self.get_data_from_first_file(self.data[0])            \n",
    "            for file_data in self.data:\n",
    "                self.meshdata_from_file(file_data) # sets self.fullmesh and appends it to self.fullmeshes                                               \n",
    "            self.init_procedures_after_data_import()\n",
    "    \n",
    "    \n",
    "    def init_procedures_after_data_import(self):\n",
    "        self.setup_QSliders()\n",
    "        self.setup_isosurfaces()\n",
    "        self.frame_num = 0\n",
    "        self.load_frame()            \n",
    "        self.add_mesh(self.fullmesh.outline(), color='black', name=\"outline\") # bounding box)        \n",
    "        self.setup_director_slice_widget()            \n",
    "        self.setup_toggle_menus()\n",
    "        self.setup_animation_buttons()\n",
    "        self.finished_setup = True\n",
    "        \n",
    "        \n",
    "    def scalar_fields(self):\n",
    "        return [ array_name for array_name in self.fullmesh.array_names \n",
    "                 if len(self.fullmesh[array_name].shape)==1 ]\n",
    "        \n",
    "    def read(self, filenames, **kwargs):\n",
    "        for filename in filenames:\n",
    "            self.data.append(np.array(read_csv(filename, sep=\"\\t\", header=None)))\n",
    "            \n",
    "    def get_data_from_first_file(self, file_data):\n",
    "        self.Lx, self.Ly, self.Lz = [ int(item+1) for item in file_data[-1,:3] ]\n",
    "    \n",
    "    def dims(self):\n",
    "        return (self.Lx, self.Ly, self.Lz)\n",
    "        \n",
    "    def load_frame(self):\n",
    "        if self.frame_num >= len(self.fullmeshes):\n",
    "            self.frame_num = len(self.fullmeshes)-1\n",
    "        elif self.frame_num < 0:\n",
    "            self.frame_num = 0\n",
    "        self.fullmesh = self.fullmeshes[self.frame_num]\n",
    "        self.make_coarsemesh(self.director_resolution)\n",
    "        for actor_name in self.refresh_functions.keys():\n",
    "            self.refresh_functions[actor_name]()\n",
    "        return True\n",
    "        \n",
    "    def next_frame(self):\n",
    "        self.frame_num += 1\n",
    "        return self.load_frame()            \n",
    "        \n",
    "    def previous_frame(self):\n",
    "        self.frame_num -= 1\n",
    "        return self.load_frame()            \n",
    "        \n",
    "    def first_frame(self):\n",
    "        self.frame_num = 0\n",
    "        return self.load_frame()\n",
    "    \n",
    "    def last_frame(self):\n",
    "        self.frame_num = len(self.fullmeshes)-1\n",
    "        return self.load_frame()\n",
    "    \n",
    "    def setup_animation_buttons(self):\n",
    "        self.animation_buttons_toolbar = qw.QToolBar()\n",
    "        tb = self.animation_buttons_toolbar\n",
    "        for button_symbol, button_action in zip(\n",
    "            ['|<', '<', '>', '>|'], \n",
    "            [self.first_frame, self.previous_frame, self.next_frame, self.last_frame]\n",
    "        ):\n",
    "            btn = qw.QPushButton(button_symbol)\n",
    "            btn.released.connect(button_action)\n",
    "            tb.addWidget(btn)\n",
    "        self.app_window.addToolBar(tb)\n",
    "    \n",
    "    def setup_toggle_menus(self):\n",
    "        self.toggle_menu = self.main_menu.addMenu('Toggle')\n",
    "        self.toggle_menu.aboutToShow.connect(self.update_toggle_menu)\n",
    "#         self.toggle_menu.triggered.connect(self.update_toggle_menu)\n",
    "#         for actor_name in self.renderer.actors:\n",
    "#             self.add_to_toggle_menu(actor_name)\n",
    "        self.the_Add_menu = self.main_menu.addMenu(\"Add\")\n",
    "        self.widget_menu = self.main_menu.addMenu(\"Widgets\")\n",
    "        self.widget_menu.aboutToShow.connect(self.update_widget_menu)\n",
    "        \n",
    "        self.the_add_slice_menu = self.the_Add_menu.addMenu(\"Slice\")\n",
    "        \n",
    "        def add_slice_menu_update():\n",
    "            menu = self.the_add_slice_menu\n",
    "            menu.clear()\n",
    "            for array_name in sorted(self.scalar_fields()):\n",
    "                menu_action = menu.addAction(\n",
    "                    array_name,\n",
    "                    self.add_slice_aux(array_name)\n",
    "                )\n",
    "                menu_action.setCheckable(False)\n",
    "        self.the_add_slice_menu.aboutToShow.connect(add_slice_menu_update)\n",
    "        \n",
    "        \n",
    "        self.the_add_isosurface_menu = self.the_Add_menu.addMenu(\"Isosurface\")\n",
    "        def add_isosurface_menu_update():\n",
    "            menu = self.the_add_isosurface_menu\n",
    "            menu.clear()\n",
    "            for array_name in sorted(self.scalar_fields()):\n",
    "                menu_action = menu.addAction(\n",
    "                    array_name,\n",
    "                    self.add_isosurface_slider_aux(array_name)\n",
    "                )\n",
    "                menu_action.setCheckable(False)\n",
    "        self.the_add_isosurface_menu.aboutToShow.connect(add_isosurface_menu_update)\n",
    "        \n",
    "#         for array_name in sorted(self.scalar_fields()):#self.fullmesh.array_names): \n",
    "#             # only scalar arrays\n",
    "# #             if len(self.fullmesh[array_name].shape) == 1:\n",
    "#             menu_action = self.the_add_slice_menu.addAction(\n",
    "#                 array_name, \n",
    "#                 self.add_slice_aux(array_name)\n",
    "#             )\n",
    "#             menu_action.setCheckable(False)\n",
    "#             menu_action2 = self.the_add_isosurface_menu.addAction(\n",
    "#                 array_name,\n",
    "#                 self.add_isosurface_slider_aux(array_name)\n",
    "#             )\n",
    "#             menu_action2.setCheckable(False)\n",
    "        self.add_plane_widget_to_widget_menu(\"director_slice_widget\")\n",
    "        self.widget_menu.triggered.connect(\n",
    "            lambda: self.widget_menu.actions()[0].setChecked(\n",
    "                self.widgets[\"director_slice_widget\"].GetEnabled()\n",
    "            )\n",
    "        )\n",
    "\n",
    "        self.the_color_by_menu = self.main_menu.addMenu(\"Color by\")\n",
    "        self.the_color_by_menu.aboutToShow.connect(self.color_by_menu_update)\n",
    "        \n",
    "        for scalar_bar_name in self.scalar_bars.keys():\n",
    "            self.add_scalar_bar_to_toggle_menu(scalar_bar_name)\n",
    "        \n",
    "        \n",
    "            \n",
    "        \n",
    "    def color_by_menu_update(self):\n",
    "            \n",
    "                \n",
    "        menu = self.the_color_by_menu\n",
    "        menu.clear()\n",
    "\n",
    "#         about_to_show_callbacks={}\n",
    "        for actor_name in self.isosurfaces.keys():\n",
    "            # exclude color bars and widget outlines             \n",
    "            if not \"Addr=\" in actor_name and not (\n",
    "                    len(actor_name.split('outline'))==2\n",
    "                    and len(actor_name.split('outline')[0])>0\n",
    "            ):\n",
    "                submenu = menu.addMenu(actor_name)                                   \n",
    "                submenu.aboutToShow.connect(self.color_by_submenu_update(actor_name, submenu))\n",
    "     \n",
    "                \n",
    "    def make_color_by_submenu_callback(self, actor_name, scalar_field):\n",
    "        def submenu_callback():\n",
    "            self.set_color(actor_name, scalar_field)\n",
    "        return submenu_callback\n",
    "    \n",
    "    def color_by_submenu_update(self, actor_name, submenu):\n",
    "        def return_function():\n",
    "            submenu.clear()\n",
    "            for scalar_field in sorted(self.scalar_fields()):\n",
    "                submenu.addAction(\n",
    "                    scalar_field, \n",
    "                    self.make_color_by_submenu_callback(actor_name, scalar_field)\n",
    "                )    \n",
    "        return return_function\n",
    "\n",
    "            \n",
    "        \n",
    "    def update_toggle_menu(self):\n",
    "        self.toggle_menu.clear()\n",
    "        for actor_name in self.renderer.actors.keys():\n",
    "            # exclude color bars and widget outlines \n",
    "            if (not \"Addr=\" in actor_name \n",
    "                and not (len(actor_name.split('outline'))==2\n",
    "                         and len(actor_name.split('outline')[0])>0\n",
    "                        )\n",
    "            ):\n",
    "                self.add_to_toggle_menu(actor_name)\n",
    "        for scalar_bar_name in self.scalar_bars.keys():\n",
    "            self.add_scalar_bar_to_toggle_menu(scalar_bar_name)\n",
    "            \n",
    "\n",
    "    def update_widget_menu(self):\n",
    "        self.widget_menu.clear()\n",
    "        for widget_name in self.widgets.keys():\n",
    "            self.add_plane_widget_to_widget_menu(widget_name)\n",
    "        \n",
    "    def add_to_toggle_menu(self, actor_name):\n",
    "        menu_action = self.toggle_menu.addAction(actor_name, \n",
    "                              self.generic_menu_toggle(actor_name))\n",
    "        menu_action.setCheckable(True)\n",
    "        is_visible = self.renderer.actors[actor_name].GetVisibility()\n",
    "        menu_action.setChecked(is_visible)\n",
    "        \n",
    "    def add_scalar_bar_to_toggle_menu(self, scalar_bar_name):\n",
    "        scalar_bar = self.scalar_bars[scalar_bar_name]\n",
    "        menu_action = self.toggle_menu.addAction(\"└─ \" + scalar_bar_name + \" colorbar\",\n",
    "            self.toggle_visibility(scalar_bar)\n",
    "        )\n",
    "        menu_action.setCheckable(True)\n",
    "        is_visible = self.scalar_bars[scalar_bar_name].GetVisibility()\n",
    "        menu_action.setChecked(is_visible)\n",
    "        \n",
    "\n",
    "    def toggle_visibility(self, actor):\n",
    "        def return_function():\n",
    "            actor.SetVisibility(1-actor.GetVisibility())\n",
    "        return return_function\n",
    "        \n",
    "    def add_plane_widget_to_widget_menu(self, widget_name):\n",
    "        menu_action = self.widget_menu.addAction(\n",
    "            widget_name, self.plane_widget_toggle(widget_name))\n",
    "        menu_action.setCheckable(True)\n",
    "        menu_action.setChecked(self.interactor.widgets[widget_name].GetEnabled())\n",
    "        \n",
    "        \n",
    "#     def toggle_color_by_L24(self):\n",
    "#         self.color_defects_by_L24 = 1 - self.color_defects_by_L24\n",
    "#         slider = self.QSliders['defects']\n",
    "#         for delta in [1, -1]:\n",
    "#             slider.setValue(slider.value()+delta)\n",
    "        \n",
    "        \n",
    "    def setup_isosurfaces(self):\n",
    "        self.setup_boundaries()\n",
    "        self.setup_defects()\n",
    "        \n",
    "    def setup_defects(self):\n",
    "        self.colors[\"defects\"] = self.settings[\"defects_color\"]\n",
    "        self.add_isosurface_slider(\n",
    "            \"order\", \n",
    "            actor_name=\"defects\", \n",
    "            mesh=None, \n",
    "#             color=self.colors[\"defects\"], \n",
    "            label_txt=\"defects S\", \n",
    "            min_val=0, \n",
    "            max_val=1,\n",
    "            init_slider_int=30\n",
    "        )        \n",
    "#         self.L24_color_button = qw.QCheckBox(\"L24 color\")\n",
    "#         self.L24_color_button.toggled.connect(self.toggle_color_by_L24)\n",
    "#         self.QSliders_toolbar.addWidget(self.L24_color_button)\n",
    "        \n",
    "    def setup_QSliders(self):\n",
    "        self.QSliders_toolbar = qw.QToolBar('QSliders')\n",
    "        self.QSliders_toolbar.setFixedWidth(150)\n",
    "        self.app_window.addToolBar(Qt.Qt.LeftToolBarArea, self.QSliders_toolbar)\n",
    "        self.QSliders={}\n",
    "        self.lighting_slider_label = qw.QLabel()\n",
    "        self.lighting_slider = qw.QSlider(Qt.Qt.Horizontal)\n",
    "        self.lighting_slider.setMinimum(0)\n",
    "        self.lighting_slider.setMaximum(50)\n",
    "        self.lighting_slider.setValue(9)\n",
    "        self.QSliders_toolbar.addWidget(self.lighting_slider_label)\n",
    "        self.QSliders_toolbar.addWidget(self.lighting_slider)        \n",
    "        self.lighting_slider.valueChanged.connect(self.set_lights_intensity)\n",
    "        self.lighting_slider.setValue(8)\n",
    "        \n",
    "        \n",
    "        self.n_res_slider_label = qw.QLabel()\n",
    "        self.n_res_slider = qw.QSlider(Qt.Qt.Horizontal)\n",
    "        self.n_res_slider.setMinimum(1)\n",
    "        self.n_res_slider.setMaximum(\n",
    "            int(max(1,max(np.array([self.Lx,self.Ly,self.Lz])/6)))\n",
    "        )\n",
    "        self.n_res_slider.setValue(self.director_resolution)        \n",
    "        self.QSliders_toolbar.addWidget(self.n_res_slider_label)    \n",
    "        self.QSliders_toolbar.addWidget(self.n_res_slider)\n",
    "        self.n_res_slider.valueChanged.connect(self.make_coarsemesh)            \n",
    "            \n",
    "    def setup_boundaries(self):\n",
    "        boundary_vis_kwargs = {\n",
    "            \"pbr\":True,\n",
    "            \"metallic\":1,\n",
    "            \"roughness\":0.5,\n",
    "            \"diffuse\":1,\n",
    "            \"smooth_shading\":True\n",
    "        }\n",
    "        \n",
    "        actor_name=\"boundaries (all)\"\n",
    "        self.colors[actor_name] = self.settings[\"boundaries_color\"]\n",
    "        self.refresh_functions[actor_name] = lambda: self.update_isosurface(\n",
    "            \"nematic_sites\", actor_name=actor_name, **boundary_vis_kwargs\n",
    "        )\n",
    "        self.refresh_functions[actor_name]()\n",
    "        \n",
    "        \n",
    "        for i in range(1,self.num_boundaries+1):\n",
    "            bdy = f\"boundary_{i}\"\n",
    "            self.colors[bdy] = self.settings[\"boundaries_color\"]            \n",
    "            self.refresh_functions[bdy] = lambda: self.update_isosurface(\n",
    "                bdy, actor_name=bdy, **boundary_vis_kwargs)\n",
    "            self.refresh_functions[bdy]()            \n",
    "            self.isosurfaces[bdy].SetVisibility(0)\n",
    "#             self.isosurfaces[bdy] = self.add_mesh(\n",
    "#                 self.fullmesh.contour([0.5], scalars=bdy),\n",
    "#                 show_scalar_bar=False,\n",
    "# #                 color=self.settings[\"boundaries_color\"],\n",
    "#                 color=self.colors[bdy],\n",
    "#                 name=bdy,\n",
    "#                 **boundary_vis_kwargs\n",
    "#             )\n",
    "#             self.renderer.actors[bdy].SetVisibility(0)\n",
    "    \n",
    "    def update_isosurface(self, dataset_name, actor_name = None, contour_value=0.5, color=None, **kwargs):\n",
    "        if actor_name is None:\n",
    "            actor_name = dataset_name + \"_isosurface\"        \n",
    "        if color is None:\n",
    "            color = self.colors[actor_name]\n",
    "        kwargs[\"name\"] = actor_name\n",
    "        if color in self.scalar_fields():\n",
    "            kwargs[\"scalars\"] = color\n",
    "            kwargs[\"show_scalar_bar\"] = True\n",
    "            kwargs[\"scalar_bar_args\"] = self.settings[\"scalar_bar_args\"]\n",
    "            \n",
    "        else:\n",
    "            kwargs[\"color\"] = color   \n",
    "            kwargs[\"show_scalar_bar\"] = False\n",
    "        self.isosurfaces[actor_name] = self.add_mesh(\n",
    "            self.fullmesh.contour([contour_value], scalars=dataset_name),\n",
    "            **kwargs\n",
    "        )\n",
    "        if kwargs[\"show_scalar_bar\"]:\n",
    "            self.standardize_scalar_bar(self.scalar_bars[kwargs[\"scalars\"]])      \n",
    "    \n",
    "    def setup_director_slice_widget(self):\n",
    "        widget_name=\"director_slice_widget\"\n",
    "        if widget_name in self.widgets.keys():\n",
    "            widget = self.widgets[widget_name]\n",
    "            normal=widget.GetNormal()\n",
    "            origin=widget.GetOrigin()\n",
    "            enabled=widget.GetEnabled()\n",
    "            widget.SetEnabled(0)            \n",
    "        else:\n",
    "            normal=(1.0, 0.0, 0.0)\n",
    "            origin=(self.Lx/2, self.Ly/2, self.Lz/2)\n",
    "            enabled=True\n",
    "            \n",
    "        self.widgets[widget_name] = self.add_plane_widget(\n",
    "            self.director_slice_func,\n",
    "            factor=1.1, \n",
    "            color=self.settings[\"plane_widget_color\"],\n",
    "            tubing=True,\n",
    "            normal=normal,\n",
    "            origin=origin\n",
    "        )\n",
    "        self.widgets[widget_name].SetEnabled(enabled)\n",
    "        \n",
    "        \n",
    "    def Q33_from_Q5(self, Q5):\n",
    "        (Qxx, Qxy, Qxz, Qyy, Qyz) = Q5.T\n",
    "        Qmat = np.moveaxis(np.array([ \n",
    "                [Qxx, Qxy, Qxz],\n",
    "                [Qxy, Qyy, Qyz],\n",
    "                [Qxz, Qyz, -Qxx-Qyy]\n",
    "                ]), -1, 0)\n",
    "        return Qmat\n",
    "\n",
    "    def n_from_Q(self, Qmat):\n",
    "        \"\"\"Get director from 3x3-matrix Q-tensor data\"\"\"\n",
    "        evals, evecs = np.linalg.eigh(Qmat)    \n",
    "        return evecs[:,:,2]            \n",
    "\n",
    "    def set_settings(self, user_settings):\n",
    "        self.settings = {\n",
    "            \"boundaries_color\":\"gray\",\n",
    "            \"director_color\":\"red\",\n",
    "            \"director_resolution\":2, \n",
    "            \"default_defect_S\":0.3, # initialization order value for defect isosurfaces\n",
    "            \"defects_color\":(37/256,150/256,190/256),\n",
    "            \"checkbox_size\":50, # size of toggle boxes in pixels\n",
    "            \"checkbox_spacing\":10, # spacing between toggle boxes in pixels\n",
    "            \"window_size\":(1200,800), # window size in pixels\n",
    "            \"cylinder_resolution\":8, # angular resolution for each cylindrical rod; larger values look nicer but take longer to compute\n",
    "            \"slice_plane_color\":\"lightyellow\", # set to None to use slice_color_function instead    \n",
    "            \"slice_cmap\":\"cividis\", # color map for use with slice_color_function\n",
    "            \"slice_color_function\":(lambda slc: np.abs(slc[\"director\"][:,0])), # optionally color slice plane by some function of director or order\n",
    "            \"plane_widget_color\":\"orange\",\n",
    "            \"default_isosurface_color\":\"purple\",\n",
    "            \"scalar_bar_args\":dict(\n",
    "                interactive=True,\n",
    "                 #\"height\":0.25, \"width\":0.05, \n",
    "                vertical=True,\n",
    "                title_font_size=10, color=\"black\", \n",
    "                label_font_size=8, shadow=False,\n",
    "                n_labels=3,\n",
    "                font_family=\"arial\"\n",
    "            )\n",
    "        }\n",
    "        for key, value in zip(user_settings.keys(), user_settings.values()):\n",
    "            self.settings[key] = value\n",
    "\n",
    "            \n",
    "    def meshdata_from_file(self, dat):\n",
    "\n",
    "        # name the data columns:\n",
    "        self.coords = dat[:,:3]\n",
    "        self.Qdata = dat[:,3:8]\n",
    "        self.Q33 = self.Q33_from_Q5(self.Qdata) # 3x3 Q matrix\n",
    "        self.site_types = dat[:,8]\n",
    "        self.order = dat[:,9]\n",
    "\n",
    "        # grid for pyvista:\n",
    "        self.fullmesh = pv.UniformGrid((self.Lx,self.Ly,self.Lz)) \n",
    "        # Order (defects) data:\n",
    "        self.order[self.site_types>0] = np.max(self.order) # Don't plot defects inside objects\n",
    "        self.fullmesh[\"order\"] = self.order\n",
    "\n",
    "        # director data:\n",
    "        self.Qdata[self.site_types>0] = 0. # Don't bother calculating eigenvectors inside objects\n",
    "        self.fullmesh[\"director\"] = self.n_from_Q(self.Q33)\n",
    "\n",
    "        # boundaries:\n",
    "        self.fullmesh[\"nematic_sites\"] = 1*(self.site_types<=0)\n",
    "        self.num_boundaries = int(np.max(self.site_types))\n",
    "        for i in range(1,self.num_boundaries+1):\n",
    "            self.fullmesh[f\"boundary_{i}\"] = 1*(self.site_types==i)\n",
    "\n",
    "        \n",
    "        self.Q33_xyz = self.Q33.reshape((self.Lx,self.Ly,self.Lz,3,3))        \n",
    "        self.diQjk = np.moveaxis(\n",
    "            np.array(\n",
    "                [np.roll(self.Q33_xyz,-1, axis=i) \n",
    "                 - np.roll(self.Q33_xyz,1, axis=i) \n",
    "                 for i in range(3)]\n",
    "            ),\n",
    "            0, -3\n",
    "        )\n",
    "        \n",
    "        # energy:\n",
    "        self.fullmesh[\"energy_L1\"] = np.sum(\n",
    "            self.diQjk**2, axis=(-1,-2,-3)).flatten()\n",
    "        self.fullmesh[\"energy_L2\"] = np.sum(\n",
    "            (np.einsum(\"...iij->...j\", self.diQjk))**2, \n",
    "            axis=-1\n",
    "        ).flatten() # djQij dkQik = djQji dkQki = sum_i[(djQji)^2]\n",
    "        self.fullmesh[\"energy_L6\"] = np.einsum(\n",
    "            \"...ij,...ikl,...jkl\", self.Q33_xyz, self.diQjk, self.diQjk).flatten()\n",
    "        self.fullmesh[\"energy_L3\"] = np.einsum(\n",
    "            \"...ijk,...kij\", self.diQjk, self.diQjk).flatten() \n",
    "        self.fullmesh[\"energy_L24\"] = self.fullmesh[\"energy_L3\"] - self.fullmesh[\"energy_L2\"] # diQjk dkQij - diQij dkQjk \n",
    "        for i in [1,2,3,6,24]:\n",
    "            self.fullmesh[f\"energy_L{i}\"] *= 1*(self.site_types==0)        \n",
    "        L1 = self.fullmesh[\"energy_L1\"]\n",
    "        L2 = self.fullmesh[\"energy_L2\"]\n",
    "        L3 = self.fullmesh[\"energy_L3\"]\n",
    "        L6 = self.fullmesh[\"energy_L6\"]\n",
    "        S = self.fullmesh[\"order\"]\n",
    "        # TODO: account for q0 \n",
    "        self.fullmesh[\"energy_K1\"] = 2/(9*S*S) * (-L1/3 + 2*L2 -2/(3*S)*L6)\n",
    "        self.fullmesh[\"energy_K2\"] = 2/(9*S*S) * (L1 - 2*L3)\n",
    "        self.fullmesh[\"energy_K3\"] = 2/(9*S*S) * (L1/3 + 2/(3*S)*L6)        \n",
    "        self.fullmeshes.append(self.fullmesh)   \n",
    "        for i, dataset_name in enumerate([\"|n_x|\", \"|n_y|\", \"|n_z|\"]):\n",
    "            self.fullmesh[dataset_name] = np.abs(self.fullmesh[\"director\"][...,i])\n",
    "        \n",
    "      \n",
    "    def make_coarsemesh(self, nres):\n",
    "        self.director_resolution = nres\n",
    "        self.coarsemesh = self.fullmesh.probe(\n",
    "            pv.UniformGrid(tuple([ int(item/nres) for item in self.dims()]),\n",
    "                           (nres,)*3\n",
    "                          )\n",
    "        )   \n",
    "        try:\n",
    "            self.n_res_slider_label.setText(f\"n_res: {nres}\")                                        \n",
    "        except AttributeError:\n",
    "            pass\n",
    "        \n",
    "        self.director_slice_func = self.make_director_slice_func()\n",
    "        if 'director_slice_widget' in self.widgets.keys():\n",
    "            widget = self.widgets['director_slice_widget']\n",
    "            self.refresh_functions['director'] = lambda : self.director_slice_func(\n",
    "                widget.GetNormal(),\n",
    "                widget.GetOrigin()\n",
    "            )\n",
    "    \n",
    "    def plane_widget_toggle(self, widget_name):\n",
    "        def return_function():\n",
    "            if widget_name in self.widgets.keys():\n",
    "                widget = self.widgets[widget_name]\n",
    "                if widget.GetEnabled():\n",
    "                    widget.EnabledOff()\n",
    "                else:\n",
    "                    widget.EnabledOn()             \n",
    "        return return_function\n",
    "\n",
    "    def make_director_slice_func(self):        \n",
    "        def director_slice_func(normal, origin):\n",
    "            \"\"\"make glyph plot and transparent plane for director field slice\"\"\"\n",
    "            \n",
    "            origin = tuple(\n",
    "                self.director_resolution * np.asarray(\n",
    "                    np.array(origin)/self.director_resolution, dtype=int\n",
    "                )\n",
    "            )\n",
    "            slc = self.coarsemesh.slice(normal=normal, origin=origin)\n",
    "            cylinders = slc.glyph(orient=\"director\", scale=\"nematic_sites\",\n",
    "                factor=self.director_resolution,\n",
    "                geom=pv.Cylinder(\n",
    "                    radius=0.2, height=1, \n",
    "                    resolution=self.settings[\"cylinder_resolution\"]\n",
    "                ),  \n",
    "                tolerance=None\n",
    "    #             progress_bar=True\n",
    "            )\n",
    "            try:\n",
    "                director_vis = self.renderer.actors[\"director\"].GetVisibility()                \n",
    "                slice_plane_vis = self.renderer.actors[\"slice_plane\"].GetVisibility()\n",
    "            except KeyError:\n",
    "                director_vis = 1\n",
    "                slice_plane_vis = 1\n",
    "            self.colors[\"director\"] = self.settings[\"director_color\"]\n",
    "            \n",
    "            self.renderer.actors[\"director\"] = self.add_mesh(\n",
    "                cylinders, \n",
    "                color=self.colors[\"director\"],\n",
    "                pbr=True, metallic=0.5, roughness=0.25, diffuse=1,\n",
    "                name=\"director\" # \"name\" == actor's name so old actor is replaced\n",
    "            )\n",
    "            self.renderer.actors[\"director\"].SetVisibility(director_vis)\n",
    "\n",
    "            self.renderer.actors[\"slice_plane\"] = self.add_mesh(\n",
    "                slc, opacity=0.01, \n",
    "                ambient=1, diffuse=0, specular=0, # glows, doesn't reflect\n",
    "                color=self.settings[\"slice_plane_color\"], \n",
    "                scalars=(self.settings[\"slice_color_function\"](slc) \n",
    "                    if self.settings[\"slice_plane_color\"] is None \n",
    "                    else None # use slice_color_function only if slice_plane_color==None\n",
    "                ),\n",
    "                cmap=self.settings[\"slice_cmap\"],\n",
    "                name=\"slice_plane\" # \"name\" == actor's name so old actor is replaced\n",
    "            )\n",
    "            self.renderer.actors[\"slice_plane\"].SetVisibility(slice_plane_vis)\n",
    "#             except ValueError:\n",
    "#                 pass\n",
    "            \n",
    "        return director_slice_func\n",
    "      \n",
    "    def set_color(self, actor_name, color):\n",
    "        if not actor_name in self.renderer.actors:\n",
    "            actor_name += \"_isosurface\"\n",
    "        self.colors[actor_name] = color        \n",
    "        if actor_name in self.colorbars.keys():\n",
    "            old_scalar_bar_name = self.colorbars[actor_name]\n",
    "            self.remove_scalar_bar(old_scalar_bar_name)\n",
    "        if actor_name in self.QSliders.keys():\n",
    "            self.wiggle_slider_to_update(\n",
    "                self.QSliders[actor_name]\n",
    "            )\n",
    "        elif actor_name in self.refresh_functions.keys():\n",
    "            self.refresh_functions[actor_name]()\n",
    "            \n",
    "    def wiggle_slider_to_update(self, slider):\n",
    "            val = slider.value()\n",
    "            try:\n",
    "                for i in [1,-1]:\n",
    "                    slider.setValue(val+i)\n",
    "                    slider.setValue(val)\n",
    "            except:\n",
    "                for i in [-1,1]:\n",
    "                    slider.setValue(val+i)\n",
    "                    slider.setValue(val)\n",
    "\n",
    "            \n",
    "    \n",
    "    def generic_slider_callback(self, actor_name, scalars, contour_value, \n",
    "        color=None, mesh_color_scalars=None, clim=None, cmap=None):\n",
    "        \"\"\"generic callback function for slider controlling isosurfaces\"\"\"\n",
    "        kwargs={\n",
    "            \"show_scalar_bar\":False,\n",
    "#             \"specular\":1, \"specular_power\":20,\n",
    "#             \"ambient\":0.5, \"diffuse\":1,\n",
    "            \"smooth_shading\":True,\n",
    "            \"name\":actor_name,\n",
    "            \"pbr\":True, \n",
    "            \"metallic\":0.5,\n",
    "            \"roughness\":0.25,\n",
    "            \"diffuse\":1,   \n",
    "        }\n",
    "        if color is None and mesh_color_scalars is None:\n",
    "            if actor_name in self.colors.keys():\n",
    "                color = self.colors[actor_name]\n",
    "#             if actor_name+\"_color\" in self.settings.keys():\n",
    "#                 kwargs[\"color\"] = self.settings[actor_name+\"_color\"]\n",
    "            else:\n",
    "                color = self.settings[\"default_isosurface_color\"]\n",
    "                self.colors[actor_name] = color\n",
    "        # check if \"color\" was mean to be \"mesh_color_scalars\"\n",
    "        if color in self.scalar_fields():\n",
    "            mesh_color_scalars = color\n",
    "            color = None \n",
    "            \n",
    "        if mesh_color_scalars is not None:\n",
    "            kwargs[\"scalars\"] = mesh_color_scalars\n",
    "            kwargs[\"show_scalar_bar\"] = True\n",
    "            kwargs[\"scalar_bar_args\"] = self.settings[\"scalar_bar_args\"]\n",
    "            kwargs[\"clim\"] = clim\n",
    "            if cmap is not None:\n",
    "                kwargs[\"cmap\"] = cmap            \n",
    "            color = None\n",
    "        kwargs[\"color\"] = color\n",
    "        try:\n",
    "            self.renderer.actors[actor_name] = self.add_mesh(\n",
    "                self.fullmesh.contour(\n",
    "                    [contour_value], scalars=scalars\n",
    "                ), **kwargs            \n",
    "            ) \n",
    "            actor = self.renderer.actors[actor_name]\n",
    "            if actor_name in self.visibility_checkboxes.keys():\n",
    "                self.visibility_checkboxes[actor_name].toggled.connect(\n",
    "                    lambda : actor.SetVisibility(1 - actor.GetVisibility())\n",
    "                )\n",
    "            if kwargs[\"show_scalar_bar\"]:\n",
    "                scalar_bar_name = kwargs[\"scalars\"]\n",
    "                scalar_bar = self.scalar_bars[scalar_bar_name]\n",
    "                self.standardize_scalar_bar(scalar_bar)\n",
    "                self.colorbars[actor_name] = scalar_bar_name\n",
    "        except ValueError: # ignore \"empty mesh\" warnings \n",
    "            pass\n",
    "        \n",
    "\n",
    "##     the sliders\n",
    "\n",
    "    def add_isosurface_slider(self, dataset_name, actor_name=None, \n",
    "                              mesh=None, color=None, label_txt=None, \n",
    "                              min_val=None, max_val=None, init_slider_int = 50):\n",
    "        if actor_name is None:\n",
    "            actor_name = dataset_name+\"_isosurface\"\n",
    "        while actor_name in self.renderer.actors.keys():\n",
    "            actor_name += \"\\'\"        \n",
    "\n",
    "        if mesh is None:\n",
    "            mesh = self.fullmesh\n",
    "        if label_txt is None:\n",
    "            label_txt = dataset_name\n",
    "        dataset=mesh[dataset_name]\n",
    "        if min_val is None:\n",
    "            min_val = np.min(dataset)\n",
    "        if max_val is None:\n",
    "            max_val = np.max(dataset)\n",
    "                \n",
    "        self.QSliders_toolbar.addSeparator()\n",
    "        self.QSliders_labels[actor_name], self.QSliders_updaters[actor_name], self.QSliders[actor_name] = self.add_QSlider(\n",
    "            lambda value: self.generic_slider_callback(\n",
    "               actor_name, dataset_name, value, color\n",
    "            ),\n",
    "            self.QSliders_toolbar,\n",
    "            actor_name,\n",
    "            scalars=mesh[dataset_name],\n",
    "            label_txt=label_txt,\n",
    "            min_val = min_val,\n",
    "            max_val = max_val\n",
    "        )\n",
    "        try:\n",
    "            self.QSliders[actor_name].setValue(init_slider_int+1)\n",
    "        except:\n",
    "            self.QSliders[actor_name].setValue(init_slider_int-1)\n",
    "        self.QSliders[actor_name].setValue(init_slider_int)\n",
    "\n",
    "        self.renderer.actors[actor_name].SetVisibility(1) \n",
    "        self.add_viscolor_toolbar(actor_name)\n",
    "        self.isosurfaces[actor_name] = self.renderer.actors[actor_name]\n",
    "        \n",
    "        \n",
    "    def add_viscolor_toolbar(self, actor_name):\n",
    "        toolbar_row = qw.QToolBar()\n",
    "        self.add_color_picker_button(actor_name, toolbar_row)\n",
    "        self.add_visibility_checkbox(actor_name, toolbar_row)\n",
    "        self.QSliders_toolbar.addWidget(toolbar_row)\n",
    "                \n",
    "    def add_QSlider(self, update_method, toolbar, actor_name, num_divs=100, \n",
    "                    init_val=50, min_val = None, max_val = None, scalars=None, label_txt=None):\n",
    "        def slider_formula(slider_value):\n",
    "            return min_val + (max_val-min_val)*slider_value/100         \n",
    "        def external_update(float_value):\n",
    "            slider_value = int( 100*(float_value-min_val)/(max_val-min_val))\n",
    "            slider.setValue(slider_value)\n",
    "                \n",
    "        slider = qw.QSlider(Qt.Qt.Horizontal)\n",
    "        slider.setMinimum(0)\n",
    "        slider.setMaximum(num_divs)\n",
    "        slider.setValue(init_val)\n",
    "        \n",
    "        text_row = qw.QToolBar()\n",
    "        if label_txt is not None:\n",
    "            label = qw.QLabel(label_txt)\n",
    "            text_row.addWidget(label)\n",
    "        \n",
    "        spinbox = qw.QDoubleSpinBox()\n",
    "        spinbox.setDecimals(3)\n",
    "        spinbox.setSingleStep(0.1)\n",
    "        spinbox.setValue(slider_formula(init_val))\n",
    "        def spinbox_callback():\n",
    "            external_update(spinbox.value())\n",
    "        spinbox.editingFinished.connect(spinbox_callback)\n",
    "        text_row.addWidget(spinbox)\n",
    "        toolbar.addWidget(text_row)\n",
    "        \n",
    "\n",
    "        if max_val is None and scalars is not None:\n",
    "            max_val = np.max(scalars)\n",
    "        if min_val is None and scalars is not None:\n",
    "            min_val = np.min(scalars)\n",
    "\n",
    "        def valuechange_method(slider_value):                        \n",
    "            float_value = slider_formula(slider_value)\n",
    "            if actor_name in self.renderer.actors:\n",
    "                vis = self.renderer.actors[actor_name].GetVisibility()\n",
    "            else:\n",
    "                vis = 0\n",
    "            update_method(float_value)\n",
    "            self.renderer.actors[actor_name].SetVisibility(vis)\n",
    "            spinbox.setValue(float_value)\n",
    "        slider.valueChanged.connect(valuechange_method)            \n",
    "        toolbar.addWidget(slider)\n",
    "        self.refresh_functions[actor_name] = lambda : self.wiggle_slider_to_update(slider)  \n",
    "        return label, external_update, slider\n",
    "\n",
    "    def generic_menu_toggle(self, actor_name):        \n",
    "        def return_function():\n",
    "            actor=self.renderer.actors[actor_name]    \n",
    "            if actor_name in self.visibility_checkboxes.keys():\n",
    "                self.visibility_checkboxes[actor_name].setChecked(1-actor.GetVisibility())\n",
    "            else:\n",
    "                actor.SetVisibility(1-actor.GetVisibility())\n",
    "                if actor_name in self.QSliders.keys():\n",
    "                    slider = self.QSliders[actor_name]\n",
    "                    slider.setValue(slider.value()+1)\n",
    "                    slider.setValue(slider.value()-1)\n",
    "            if actor_name in self.scalar_bars:\n",
    "                self.scalar_bars[actor_name].SetVisibility(actor.GetVisibility())\n",
    "        return return_function\n",
    "\n",
    "    def set_lights_intensity(self, intensity):\n",
    "        for light in self.renderer.lights:\n",
    "            light.SetIntensity(intensity)\n",
    "        self.lighting_slider_label.setText(f\"lighting: {intensity}\")\n",
    "    \n",
    "    def rescale_lights_intensity(self, factor):\n",
    "        for light in self.renderer.lights:\n",
    "            light.SetIntensity(factor*light.GetIntensity())\n",
    "    \n",
    "    def add_isosurface_slider_aux(self, scalars_name):\n",
    "        def return_function():\n",
    "            self.add_isosurface_slider(scalars_name)\n",
    "        return return_function\n",
    "\n",
    "    \n",
    "    def add_slice_aux(self, scalars_name):\n",
    "        def return_function():\n",
    "            self.add_slice(scalars_name)\n",
    "        return return_function\n",
    "    \n",
    "    def add_slice(self, scalars_name, slice_name=None, widget_name=None):\n",
    "        if slice_name is None:\n",
    "            slice_name = scalars_name+\"_slice\"\n",
    "            while slice_name in self.elements.keys():\n",
    "                slice_name += \"\\'\"\n",
    "        if widget_name is None:\n",
    "            widget_name = scalars_name + \"_widget\"\n",
    "            while widget_name in self.widgets.keys():\n",
    "                widget_name += \"\\'\"\n",
    "        \n",
    "        def refresh_callback():\n",
    "            self.slices[slice_name] = self.add_mesh_slice(\n",
    "                self.fullmesh, \n",
    "                scalars=scalars_name, name=slice_name, \n",
    "                ambient=1, specular=0, diffuse=0, \n",
    "                cmap='cividis',\n",
    "                clim=(lambda arr: \n",
    "                      [ np.average(arr) - ((-1)**i)*2*np.std(arr) for i in range(2) ]\n",
    "                )(self.fullmesh[scalars_name]),\n",
    "                scalar_bar_args=self.settings[\"scalar_bar_args\"]\n",
    "            )\n",
    "        self.refresh_functions[slice_name] = refresh_callback\n",
    "        self.refresh_functions[slice_name]()\n",
    "#         self.refresh_functions[slice_name] = lambda : self.add_mesh_slice(\n",
    "#             self.fullmesh, \n",
    "#             scalars=scalars_name, name=slice_name, \n",
    "#             ambient=1, specular=0, diffuse=0, \n",
    "#             cmap='cividis',\n",
    "#             clim=(lambda arr: \n",
    "#                   [ np.average(arr) - ((-1)**i)*2*np.std(arr) for i in range(2) ]\n",
    "#             )(self.fullmesh[scalars_name]),\n",
    "#             scalar_bar_args=self.settings[\"scalar_bar_args\"]\n",
    "#         )\n",
    "#         self.slices[slice_name] = self.refresh_functions[slice_name]()\n",
    "#         self.slices[slice_name] = self.add_mesh_slice(self.fullmesh, \n",
    "#             scalars=scalars_name, name=slice_name, \n",
    "#             ambient=1, specular=0, diffuse=0, \n",
    "#             cmap='cividis',\n",
    "#             clim=(lambda arr: \n",
    "#                   [ np.average(arr) - ((-1)**i)*2*np.std(arr) for i in range(2) ]\n",
    "#             )(self.fullmesh[scalars_name]),\n",
    "#             scalar_bar_args=self.settings[\"scalar_bar_args\"]\n",
    "#         )\n",
    "        self.standardize_scalar_bar(self.scalar_bars[slice_name])        \n",
    "        self.elements[slice_name].SetVisibility(True)        \n",
    "        self.add_to_toggle_menu(slice_name)\n",
    "        self.widgets[widget_name] = self.plane_widgets[-1]\n",
    "        self.add_plane_widget_to_widget_menu(widget_name)        \n",
    "        \n",
    "    def standardize_scalar_bar(self, scalar_bar):\n",
    "        scalar_bar.SetMaximumHeightInPixels(200)\n",
    "        scalar_bar.SetHeight(50)\n",
    "        scalar_bar.SetMaximumWidthInPixels(50)\n",
    "        \n",
    "        \n",
    "    def color_picker(self, actor_name):\n",
    "#         self.settings[actor_name + \"_color\"] = qw.QColorDialog.getColor().name()\n",
    "        self.colors[actor_name] = qw.QColorDialog.getColor().name()\n",
    "        if actor_name in self.QSliders.keys():\n",
    "            try: \n",
    "                for i in [1,-1]:\n",
    "                    self.QSliders[actor_name].setValue(self.QSliders[actor_name].value()+i)\n",
    "            except IndexError:\n",
    "                for i in [-1,1]:\n",
    "                    self.QSliders[actor_name].setValue(self.QSliders[actor_name].value()+i)\n",
    "                    \n",
    "    def add_color_picker_button(self, actor_name, toolbar):\n",
    "        color_button = qw.QPushButton('🎨')#'color')\n",
    "#         color_button.setFixedWidth(50)\n",
    "        color_button.setToolTip('choose color for '+actor_name)\n",
    "        color_button.clicked.connect(lambda: self.color_picker(actor_name))\n",
    "        toolbar.addWidget(color_button)\n",
    "        \n",
    "    def add_visibility_checkbox(self, actor_name, toolbar):\n",
    "        checkbox = qw.QCheckBox('👁')#'show')\n",
    "        checkbox.setToolTip('toggle visibility of '+actor_name)\n",
    "        actor=self.renderer.actors[actor_name]\n",
    "        checkbox.setChecked(actor.GetVisibility())        \n",
    "        checkbox.toggled.connect(lambda : actor.SetVisibility(1-actor.GetVisibility()))\n",
    "        toolbar.addWidget(checkbox)\n",
    "        self.visibility_checkboxes[actor_name] = checkbox\n",
    "    \n",
    "    def fast_import(self,filename, sep=\"\\t\"):\n",
    "        return np.array(read_csv(filename, sep=sep, header=None))        \n",
    "    \n",
    "    def legacy_Qmin_import(self, Qtensor_filenames):\n",
    "        if type(Qtensor_filenames) is str:\n",
    "            Qtensor_filenames = [Qtensor_filenames]\n",
    "        for qfi, Qtensor_filename in enumerate(Qtensor_filenames):\n",
    "            print(f\"Loading {Qtensor_filename} ({qfi} of {len(Qtensor_filenames)})\", end=\"\\r\")\n",
    "            qtensor = np.asarray(\n",
    "                self.fast_import(\n",
    "                    Qtensor_filename,\n",
    "                    sep=\" \"),\n",
    "                dtype=float\n",
    "            )\n",
    "            qmatrix = np.asarray(\n",
    "                self.fast_import(\n",
    "                    Qtensor_filename.replace('Qtensor', 'Qmatrix'),\n",
    "                    sep=\" \"),\n",
    "                dtype=float\n",
    "            )\n",
    "#             S = qtensor[:,0]\n",
    "\n",
    "            # calculate nematic order here, not using file, because that info isn't \n",
    "            # saved for animations \n",
    "            S = np.linalg.eigvalsh(self.Q33_from_Q5(qmatrix))[:,-1]\n",
    "            site_types = qtensor[:,-1]\n",
    "            # infer Lx, Ly, Lz from filename\n",
    "            self.Lx, self.Ly, self.Lz = np.asarray(\n",
    "                (' '.join(Qtensor_filename.split('/')[-1].split('.dat')[0].split('x'))).split('_')[1].split(),\n",
    "                dtype=int\n",
    "            )      \n",
    "            Z, Y, X = np.meshgrid(range(self.Lz),range(self.Ly),range(self.Lx))\n",
    "            open_Qmin_style_data = np.concatenate((\n",
    "                np.array([X.flatten(), Y.flatten(), Z.flatten()]).T, \n",
    "                qmatrix, \n",
    "                np.array((site_types, S)).T\n",
    "            ), axis=-1)\n",
    "            self.data.append(open_Qmin_style_data)\n",
    "            self.meshdata_from_file(open_Qmin_style_data) # sets self.fullmesh and appends it to self.fullmeshes                                               \n",
    "        if len(Qtensor_filenames) > 0 :\n",
    "            self.init_procedures_after_data_import()\n",
    "\n",
    "        "
   ]
  },
  {
   "cell_type": "code",
   "execution_count": 78,
   "id": "2461fe38-2a51-44ec-8247-19dda7fc4af3",
   "metadata": {},
   "outputs": [
    {
     "name": "stdout",
     "output_type": "stream",
     "text": [
      "Loading /Users/danielbeller/code/qmin/Results/Qtensor_50x50x50_test2_140.dat (14 of 15)\r"
     ]
    }
   ],
   "source": [
    "qp = Qmin_plot()\n",
    "qp.legacy_Qmin_import(\n",
    "[f'/Users/danielbeller/code/qmin/Results/Qtensor_50x50x50_test2_{timestep}.dat' \n",
    " for timestep in range(0,140+1,10)\n",
    "]\n",
    ")"
   ]
  },
  {
   "cell_type": "markdown",
   "id": "06aa8e49-660a-4407-9c8f-9bf897c34277",
   "metadata": {},
   "source": [
    "TODO:\n",
    "\n",
    "* add animation\n",
    "* add coloring of director field\n",
    "* add multiple director glyph slices \n",
    "* add omega vector"
   ]
  },
  {
   "cell_type": "code",
   "execution_count": 82,
   "id": "60056e95-fd83-4508-b259-b4ff383e4066",
   "metadata": {},
   "outputs": [
    {
     "data": {
      "text/plain": [
       "array([0., 0., 0., ..., 0., 0., 0.])"
      ]
     },
     "execution_count": 82,
     "metadata": {},
     "output_type": "execute_result"
    }
   ],
   "source": [
    "f='/Users/danielbeller/code/qmin/Results/Qtensor_50x50x50_test1_100.dat'\n",
    "np.asarray(qp.fast_import(f, sep=\" \"),dtype=float)[:,-1]"
   ]
  },
  {
   "cell_type": "code",
   "execution_count": 39,
   "id": "377f2006-4554-4a4b-b798-e84d5f1a304d",
   "metadata": {},
   "outputs": [],
   "source": [
    "qmatrix = np.loadtxt('/Users/danielbeller/code/qmin/Results/Qmatrix_32x32x32_test1_4000.dat')\n",
    "qtensor = np.loadtxt('/Users/danielbeller/code/qmin/Results/Qtensor_32x32x32_test1_4000.dat')\n"
   ]
  },
  {
   "cell_type": "code",
   "execution_count": 56,
   "id": "dceb5241-b4e3-4967-b78f-990b0d13cd56",
   "metadata": {},
   "outputs": [
    {
     "data": {
      "text/plain": [
       "array([0., 0., 0., ..., 0., 0., 0.])"
      ]
     },
     "execution_count": 56,
     "metadata": {},
     "output_type": "execute_result"
    }
   ],
   "source": [
    "qtensor[:,-1]"
   ]
  },
  {
   "cell_type": "code",
   "execution_count": 20,
   "id": "538ae276-736a-4a04-bf94-e89ed61420f7",
   "metadata": {},
   "outputs": [
    {
     "data": {
      "text/plain": [
       "(32768, 5)"
      ]
     },
     "execution_count": 20,
     "metadata": {},
     "output_type": "execute_result"
    }
   ],
   "source": [
    "\n",
    "np.asarray(\n",
    "    qp.fast_import('/Users/danielbeller/code/qmin/Results/Qmatrix_32x32x32_test1_4000.dat', sep=\" \"),\n",
    "    dtype=float\n",
    ").shape\n"
   ]
  },
  {
   "cell_type": "code",
   "execution_count": 81,
   "id": "7c320cb5-c2aa-4bc7-967b-6f1fab234aa3",
   "metadata": {},
   "outputs": [
    {
     "data": {
      "text/plain": [
       "array([ 0.53285658, -0.25026953,  0.92073953,  0.299339  ,  0.        ])"
      ]
     },
     "execution_count": 81,
     "metadata": {},
     "output_type": "execute_result"
    }
   ],
   "source": [
    "qtensor[0]"
   ]
  },
  {
   "cell_type": "code",
   "execution_count": 106,
   "id": "0859daf3-21c8-40d9-a707-6aa6e54af6e2",
   "metadata": {},
   "outputs": [
    {
     "ename": "ValueError",
     "evalue": "all the input array dimensions for the concatenation axis must match exactly, but along dimension 0, the array at index 0 has size 3 and the array at index 1 has size 32768",
     "output_type": "error",
     "traceback": [
      "\u001b[0;31m---------------------------------------------------------------------------\u001b[0m",
      "\u001b[0;31mValueError\u001b[0m                                Traceback (most recent call last)",
      "\u001b[0;32m/var/folders/pt/1x9c1p2s02ggqr8yh1p00ln40000gn/T/ipykernel_7755/1696772324.py\u001b[0m in \u001b[0;36m<module>\u001b[0;34m\u001b[0m\n\u001b[1;32m      4\u001b[0m \u001b[0mS\u001b[0m \u001b[0;34m=\u001b[0m \u001b[0mqtensor\u001b[0m\u001b[0;34m[\u001b[0m\u001b[0;34m:\u001b[0m\u001b[0;34m,\u001b[0m\u001b[0;36m0\u001b[0m\u001b[0;34m]\u001b[0m\u001b[0;34m\u001b[0m\u001b[0;34m\u001b[0m\u001b[0m\n\u001b[1;32m      5\u001b[0m \u001b[0msite_types\u001b[0m \u001b[0;34m=\u001b[0m \u001b[0mqtensor\u001b[0m\u001b[0;34m[\u001b[0m\u001b[0;34m:\u001b[0m\u001b[0;34m,\u001b[0m\u001b[0;34m-\u001b[0m\u001b[0;36m1\u001b[0m\u001b[0;34m]\u001b[0m\u001b[0;34m\u001b[0m\u001b[0;34m\u001b[0m\u001b[0m\n\u001b[0;32m----> 6\u001b[0;31m np.hstack((\n\u001b[0m\u001b[1;32m      7\u001b[0m     \u001b[0mnp\u001b[0m\u001b[0;34m.\u001b[0m\u001b[0mvstack\u001b[0m\u001b[0;34m(\u001b[0m\u001b[0;34m(\u001b[0m\u001b[0mX\u001b[0m\u001b[0;34m.\u001b[0m\u001b[0mflatten\u001b[0m\u001b[0;34m(\u001b[0m\u001b[0;34m)\u001b[0m\u001b[0;34m,\u001b[0m \u001b[0mY\u001b[0m\u001b[0;34m.\u001b[0m\u001b[0mflatten\u001b[0m\u001b[0;34m(\u001b[0m\u001b[0;34m)\u001b[0m\u001b[0;34m,\u001b[0m \u001b[0mZ\u001b[0m\u001b[0;34m.\u001b[0m\u001b[0mflatten\u001b[0m\u001b[0;34m(\u001b[0m\u001b[0;34m)\u001b[0m\u001b[0;34m)\u001b[0m\u001b[0;34m)\u001b[0m\u001b[0;34m,\u001b[0m\u001b[0;34m\u001b[0m\u001b[0;34m\u001b[0m\u001b[0m\n\u001b[1;32m      8\u001b[0m     \u001b[0mqmatrix\u001b[0m\u001b[0;34m,\u001b[0m\u001b[0;34m\u001b[0m\u001b[0;34m\u001b[0m\u001b[0m\n",
      "\u001b[0;32m<__array_function__ internals>\u001b[0m in \u001b[0;36mhstack\u001b[0;34m(*args, **kwargs)\u001b[0m\n",
      "\u001b[0;32m/Library/Frameworks/Python.framework/Versions/3.9/lib/python3.9/site-packages/numpy/core/shape_base.py\u001b[0m in \u001b[0;36mhstack\u001b[0;34m(tup)\u001b[0m\n\u001b[1;32m    344\u001b[0m         \u001b[0;32mreturn\u001b[0m \u001b[0m_nx\u001b[0m\u001b[0;34m.\u001b[0m\u001b[0mconcatenate\u001b[0m\u001b[0;34m(\u001b[0m\u001b[0marrs\u001b[0m\u001b[0;34m,\u001b[0m \u001b[0;36m0\u001b[0m\u001b[0;34m)\u001b[0m\u001b[0;34m\u001b[0m\u001b[0;34m\u001b[0m\u001b[0m\n\u001b[1;32m    345\u001b[0m     \u001b[0;32melse\u001b[0m\u001b[0;34m:\u001b[0m\u001b[0;34m\u001b[0m\u001b[0;34m\u001b[0m\u001b[0m\n\u001b[0;32m--> 346\u001b[0;31m         \u001b[0;32mreturn\u001b[0m \u001b[0m_nx\u001b[0m\u001b[0;34m.\u001b[0m\u001b[0mconcatenate\u001b[0m\u001b[0;34m(\u001b[0m\u001b[0marrs\u001b[0m\u001b[0;34m,\u001b[0m \u001b[0;36m1\u001b[0m\u001b[0;34m)\u001b[0m\u001b[0;34m\u001b[0m\u001b[0;34m\u001b[0m\u001b[0m\n\u001b[0m\u001b[1;32m    347\u001b[0m \u001b[0;34m\u001b[0m\u001b[0m\n\u001b[1;32m    348\u001b[0m \u001b[0;34m\u001b[0m\u001b[0m\n",
      "\u001b[0;32m<__array_function__ internals>\u001b[0m in \u001b[0;36mconcatenate\u001b[0;34m(*args, **kwargs)\u001b[0m\n",
      "\u001b[0;31mValueError\u001b[0m: all the input array dimensions for the concatenation axis must match exactly, but along dimension 0, the array at index 0 has size 3 and the array at index 1 has size 32768"
     ]
    }
   ],
   "source": [
    "Lx=Ly=Lz=32\n",
    "Z, Y, X = np.meshgrid(range(Lz),range(Ly),range(Lx))\n",
    "\n",
    "S = qtensor[:,0]\n",
    "site_types = qtensor[:,-1]\n",
    "np.hstack((\n",
    "    np.vstack((X.flatten(), Y.flatten(), Z.flatten())), \n",
    "    qmatrix, \n",
    "    np.vstack((site_types, S))\n",
    "))"
   ]
  },
  {
   "cell_type": "code",
   "execution_count": 102,
   "id": "a52210a4-0355-4bcb-8928-5e4ac0e302a2",
   "metadata": {},
   "outputs": [
    {
     "data": {
      "text/plain": [
       "[UniformGrid (0x7fdb7f718c40)\n",
       "   N Cells:\t117649\n",
       "   N Points:\t125000\n",
       "   X Bounds:\t0.000e+00, 4.900e+01\n",
       "   Y Bounds:\t0.000e+00, 4.900e+01\n",
       "   Z Bounds:\t0.000e+00, 4.900e+01\n",
       "   Dimensions:\t50, 50, 50\n",
       "   Spacing:\t1.000e+00, 1.000e+00, 1.000e+00\n",
       "   N Arrays:\t16,\n",
       " UniformGrid (0x7fdb76ed20a0)\n",
       "   N Cells:\t117649\n",
       "   N Points:\t125000\n",
       "   X Bounds:\t0.000e+00, 4.900e+01\n",
       "   Y Bounds:\t0.000e+00, 4.900e+01\n",
       "   Z Bounds:\t0.000e+00, 4.900e+01\n",
       "   Dimensions:\t50, 50, 50\n",
       "   Spacing:\t1.000e+00, 1.000e+00, 1.000e+00\n",
       "   N Arrays:\t16]"
      ]
     },
     "execution_count": 102,
     "metadata": {},
     "output_type": "execute_result"
    }
   ],
   "source": [
    "qp.fullmeshes"
   ]
  },
  {
   "cell_type": "code",
   "execution_count": 149,
   "id": "1d8633d5-0b9e-4392-940a-a7311dfbb413",
   "metadata": {},
   "outputs": [
    {
     "data": {
      "text/plain": [
       "(32768, 10)"
      ]
     },
     "execution_count": 149,
     "metadata": {},
     "output_type": "execute_result"
    }
   ],
   "source": []
  },
  {
   "cell_type": "code",
   "execution_count": 147,
   "id": "492b1cf9-ba84-40a3-9c3b-e84bba60b6ab",
   "metadata": {},
   "outputs": [
    {
     "data": {
      "text/plain": [
       "(32768, 2)"
      ]
     },
     "execution_count": 147,
     "metadata": {},
     "output_type": "execute_result"
    }
   ],
   "source": [
    "np.array((S,site_types)).T.shape"
   ]
  },
  {
   "cell_type": "code",
   "execution_count": null,
   "id": "25ec1da2-f148-417b-b600-35712ef98c46",
   "metadata": {},
   "outputs": [],
   "source": []
  },
  {
   "cell_type": "code",
   "execution_count": 60,
   "id": "318d50f3-49d9-4135-9350-4aef7c391546",
   "metadata": {},
   "outputs": [
    {
     "data": {
      "text/plain": [
       "2.0"
      ]
     },
     "execution_count": 60,
     "metadata": {},
     "output_type": "execute_result"
    }
   ],
   "source": [
    "        self.coords = dat[:,:3]\n",
    "        self.Qdata = dat[:,3:8]\n",
    "        self.Q33 = self.Q33_from_Q5(self.Qdata) # 3x3 Q matrix\n",
    "        self.site_types = dat[:,8]\n",
    "        self.order = dat[:,9]"
   ]
  },
  {
   "cell_type": "code",
   "execution_count": 75,
   "id": "a3202317-6242-4b94-9da6-c037c21af619",
   "metadata": {},
   "outputs": [
    {
     "data": {
      "text/plain": [
       "array([[ 0.00000e+00,  0.00000e+00,  0.00000e+00,  0.00000e+00,\n",
       "         0.00000e+00,  0.00000e+00,  0.00000e+00,  0.00000e+00,\n",
       "         1.00000e+00,  6.42637e-01],\n",
       "       [ 1.00000e+00,  0.00000e+00,  0.00000e+00,  5.31028e-01,\n",
       "         1.22469e-03, -1.64671e-03, -2.65521e-01, -1.51846e-05,\n",
       "        -1.00000e+00,  5.31033e-01],\n",
       "       [ 2.00000e+00,  0.00000e+00,  0.00000e+00,  5.32006e-01,\n",
       "         7.25697e-03, -1.01523e-02, -2.66073e-01, -1.43101e-04,\n",
       "         0.00000e+00,  5.32202e-01],\n",
       "       [ 3.00000e+00,  0.00000e+00,  0.00000e+00,  5.31616e-01,\n",
       "         1.32090e-02, -1.94427e-02, -2.66024e-01, -4.18528e-04,\n",
       "         0.00000e+00,  5.32309e-01],\n",
       "       [ 4.00000e+00,  0.00000e+00,  0.00000e+00,  5.30378e-01,\n",
       "         1.90197e-02, -3.02496e-02, -2.65708e-01, -8.94196e-04,\n",
       "         0.00000e+00,  5.31981e-01],\n",
       "       [ 5.00000e+00,  0.00000e+00,  0.00000e+00,  5.28075e-01,\n",
       "         2.46871e-02, -4.34721e-02, -2.65154e-01, -1.64351e-03,\n",
       "         0.00000e+00,  5.31225e-01],\n",
       "       [ 6.00000e+00,  0.00000e+00,  0.00000e+00,  5.23893e-01,\n",
       "         3.04591e-02, -6.04877e-02, -2.64238e-01, -2.82204e-03,\n",
       "         0.00000e+00,  5.29713e-01],\n",
       "       [ 7.00000e+00,  0.00000e+00,  0.00000e+00,  5.15803e-01,\n",
       "         3.70548e-02, -8.36642e-02, -2.62585e-01, -4.82003e-03,\n",
       "         0.00000e+00,  5.26568e-01],\n",
       "       [ 8.00000e+00,  0.00000e+00,  0.00000e+00,  4.98737e-01,\n",
       "         4.58026e-02, -1.16779e-01, -2.59230e-01, -8.65871e-03,\n",
       "         0.00000e+00,  5.19556e-01],\n",
       "       [ 9.00000e+00,  0.00000e+00,  0.00000e+00,  4.60141e-01,\n",
       "         5.85297e-02, -1.64612e-01, -2.51935e-01, -1.70696e-02,\n",
       "         0.00000e+00,  5.03391e-01]])"
      ]
     },
     "execution_count": 75,
     "metadata": {},
     "output_type": "execute_result"
    }
   ],
   "source": [
    "qp.data[0][0:10]"
   ]
  },
  {
   "cell_type": "code",
   "execution_count": 51,
   "id": "5903b90d-a3ca-4806-abab-641f7f30989d",
   "metadata": {},
   "outputs": [],
   "source": [
    "# pv.close_all()\n",
    "qp = Qmin_plot(\"tetstGUIbdys_x0y0z0.txt\")"
   ]
  },
  {
   "cell_type": "code",
   "execution_count": 42,
   "id": "4b1807f9-864e-4ca9-ae2b-158893e37347",
   "metadata": {},
   "outputs": [],
   "source": [
    "qp.remove_scalar_bar(\"energy_K3\")"
   ]
  },
  {
   "cell_type": "code",
   "execution_count": 6,
   "id": "90261a74-a41e-4574-ac4c-e3653bf27191",
   "metadata": {},
   "outputs": [
    {
     "ename": "KeyError",
     "evalue": "'energy_K3'",
     "output_type": "error",
     "traceback": [
      "\u001b[0;31m---------------------------------------------------------------------------\u001b[0m",
      "\u001b[0;31mKeyError\u001b[0m                                  Traceback (most recent call last)",
      "\u001b[0;32m/var/folders/pt/1x9c1p2s02ggqr8yh1p00ln40000gn/T/ipykernel_7755/176460106.py\u001b[0m in \u001b[0;36m<module>\u001b[0;34m\u001b[0m\n\u001b[0;32m----> 1\u001b[0;31m \u001b[0msb\u001b[0m \u001b[0;34m=\u001b[0m \u001b[0mqp\u001b[0m\u001b[0;34m.\u001b[0m\u001b[0mscalar_bars\u001b[0m\u001b[0;34m[\u001b[0m\u001b[0;34m'energy_K3'\u001b[0m\u001b[0;34m]\u001b[0m\u001b[0;34m\u001b[0m\u001b[0;34m\u001b[0m\u001b[0m\n\u001b[0m\u001b[1;32m      2\u001b[0m \u001b[0msb\u001b[0m\u001b[0;34m.\u001b[0m\u001b[0mSetVisibility\u001b[0m\u001b[0;34m(\u001b[0m\u001b[0;36m0\u001b[0m\u001b[0;34m)\u001b[0m\u001b[0;34m\u001b[0m\u001b[0;34m\u001b[0m\u001b[0m\n\u001b[1;32m      3\u001b[0m \u001b[0;31m# sb.FastDelete()\u001b[0m\u001b[0;34m\u001b[0m\u001b[0;34m\u001b[0m\u001b[0;34m\u001b[0m\u001b[0m\n\u001b[1;32m      4\u001b[0m \u001b[0mdir\u001b[0m\u001b[0;34m(\u001b[0m\u001b[0msb\u001b[0m\u001b[0;34m)\u001b[0m\u001b[0;34m\u001b[0m\u001b[0;34m\u001b[0m\u001b[0m\n",
      "\u001b[0;32m/Library/Frameworks/Python.framework/Versions/3.9/lib/python3.9/site-packages/pyvista/plotting/scalar_bars.py\u001b[0m in \u001b[0;36m__getitem__\u001b[0;34m(self, index)\u001b[0m\n\u001b[1;32m    108\u001b[0m     \u001b[0;32mdef\u001b[0m \u001b[0m__getitem__\u001b[0m\u001b[0;34m(\u001b[0m\u001b[0mself\u001b[0m\u001b[0;34m,\u001b[0m \u001b[0mindex\u001b[0m\u001b[0;34m)\u001b[0m\u001b[0;34m:\u001b[0m\u001b[0;34m\u001b[0m\u001b[0;34m\u001b[0m\u001b[0m\n\u001b[1;32m    109\u001b[0m         \u001b[0;34m\"\"\"Return a scalar bar actor.\"\"\"\u001b[0m\u001b[0;34m\u001b[0m\u001b[0;34m\u001b[0m\u001b[0m\n\u001b[0;32m--> 110\u001b[0;31m         \u001b[0;32mreturn\u001b[0m \u001b[0mself\u001b[0m\u001b[0;34m.\u001b[0m\u001b[0m_scalar_bar_actors\u001b[0m\u001b[0;34m[\u001b[0m\u001b[0mindex\u001b[0m\u001b[0;34m]\u001b[0m\u001b[0;34m\u001b[0m\u001b[0;34m\u001b[0m\u001b[0m\n\u001b[0m\u001b[1;32m    111\u001b[0m \u001b[0;34m\u001b[0m\u001b[0m\n\u001b[1;32m    112\u001b[0m     \u001b[0;32mdef\u001b[0m \u001b[0mkeys\u001b[0m\u001b[0;34m(\u001b[0m\u001b[0mself\u001b[0m\u001b[0;34m)\u001b[0m\u001b[0;34m:\u001b[0m\u001b[0;34m\u001b[0m\u001b[0;34m\u001b[0m\u001b[0m\n",
      "\u001b[0;31mKeyError\u001b[0m: 'energy_K3'"
     ]
    }
   ],
   "source": [
    "sb = qp.scalar_bars['energy_K3']\n",
    "sb.SetVisibility(0)\n",
    "# sb.FastDelete()\n",
    "dir(sb)"
   ]
  },
  {
   "cell_type": "code",
   "execution_count": 497,
   "id": "3fff72e8-8d6c-412c-9c78-712ee5724b0d",
   "metadata": {},
   "outputs": [
    {
     "data": {
      "text/plain": [
       "{'boundaries (all)': 'energy_K2',\n",
       " 'boundary_1': 'gray',\n",
       " 'boundary_2': 'gray',\n",
       " 'defects': 'energy_L6',\n",
       " 'director': 'red'}"
      ]
     },
     "execution_count": 497,
     "metadata": {},
     "output_type": "execute_result"
    }
   ],
   "source": [
    "qp.colors"
   ]
  },
  {
   "cell_type": "code",
   "execution_count": 427,
   "id": "36a8b4be-f9e3-4878-b86e-0fa209c21d03",
   "metadata": {},
   "outputs": [],
   "source": [
    "qp.refresh_functions['boundaries (all)']()"
   ]
  },
  {
   "cell_type": "markdown",
   "id": "b6978df9-c1e5-4215-82b3-7919f3cfb201",
   "metadata": {},
   "source": [
    "TODO:\n",
    "\n",
    "* colorbar for L24 color\n",
    "* import for"
   ]
  },
  {
   "cell_type": "code",
   "execution_count": 449,
   "id": "2bb54267-7875-4bf1-8582-31d055c47a44",
   "metadata": {},
   "outputs": [],
   "source": [
    "qp.update_isosurface(\"nematic_sites\", actor_name=\"boundaries (all)\")"
   ]
  },
  {
   "cell_type": "code",
   "execution_count": 473,
   "id": "8ce76234-1cef-41cf-a6c5-b751a047b05a",
   "metadata": {},
   "outputs": [],
   "source": [
    "qp.standardize_scalar_bar(qp.scalar_bars['energy_L1'])"
   ]
  },
  {
   "cell_type": "code",
   "execution_count": 448,
   "id": "a10b055f-9c8d-4c45-b007-2e9765337569",
   "metadata": {},
   "outputs": [],
   "source": [
    "qp.set_color(\"boundaries (all)\", \"red\")"
   ]
  },
  {
   "cell_type": "code",
   "execution_count": 362,
   "id": "9dcecb26-ac92-4688-a070-88d79cd141c1",
   "metadata": {},
   "outputs": [
    {
     "name": "stdout",
     "output_type": "stream",
     "text": [
      "Help on built-in function addAction:\n",
      "\n",
      "addAction(...)\n",
      "    addAction(self, QAction)\n",
      "    addAction(self, str) -> QAction\n",
      "    addAction(self, QIcon, str) -> QAction\n",
      "    addAction(self, str, PYQT_SLOT, shortcut: Union[QKeySequence, QKeySequence.StandardKey, str, int] = 0) -> QAction\n",
      "    addAction(self, QIcon, str, PYQT_SLOT, shortcut: Union[QKeySequence, QKeySequence.StandardKey, str, int] = 0) -> QAction\n",
      "\n"
     ]
    }
   ],
   "source": [
    "help(qw.QMenu.addAction)"
   ]
  },
  {
   "cell_type": "code",
   "execution_count": 49,
   "id": "e14b555c-83c0-4381-8585-4b1039b443d6",
   "metadata": {},
   "outputs": [
    {
     "data": {
      "text/plain": [
       "'energy_L3'"
      ]
     },
     "execution_count": 49,
     "metadata": {},
     "output_type": "execute_result"
    }
   ],
   "source": [
    "qp.colorbars['defects']"
   ]
  },
  {
   "cell_type": "code",
   "execution_count": 266,
   "id": "0b1d17f7-c392-4cc1-9fcf-55b8019adb05",
   "metadata": {},
   "outputs": [
    {
     "data": {
      "text/plain": [
       "<PyQt5.QtCore.QMetaObject.Connection at 0x7fa6fa9cd200>"
      ]
     },
     "execution_count": 266,
     "metadata": {},
     "output_type": "execute_result"
    }
   ],
   "source": [
    "xself=qp\n",
    "actor_name = \"defects\"\n",
    "btn = qw.QPushButton('fish')\n",
    "def cb():\n",
    "    self.app.\n",
    "btn.released.connect(cb)\n",
    "# # dlg = qw.QDialog(self.QSliders_toolbar)\n",
    "# # dlg.addAction(qw.QAction(None))\n",
    "# self.QSliders_toolbar.addWidget(btn)\n",
    "# self.update()"
   ]
  },
  {
   "cell_type": "code",
   "execution_count": 262,
   "id": "6520aa20-51a1-4ac4-9032-a2be9c0470bf",
   "metadata": {},
   "outputs": [
    {
     "ename": "SyntaxError",
     "evalue": "unmatched ')' (4042378899.py, line 1)",
     "output_type": "error",
     "traceback": [
      "\u001b[0;36m  File \u001b[0;32m\"/var/folders/pt/1x9c1p2s02ggqr8yh1p00ln40000gn/T/ipykernel_89767/4042378899.py\"\u001b[0;36m, line \u001b[0;32m1\u001b[0m\n\u001b[0;31m    self.QSliders_toolbar.children)\u001b[0m\n\u001b[0m                                  ^\u001b[0m\n\u001b[0;31mSyntaxError\u001b[0m\u001b[0;31m:\u001b[0m unmatched ')'\n"
     ]
    }
   ],
   "source": [
    "self.QSliders_toolbar.children)"
   ]
  },
  {
   "cell_type": "code",
   "execution_count": 98,
   "id": "dc1edfe8-fb4a-4aae-a2fd-d1defb5c6116",
   "metadata": {},
   "outputs": [
    {
     "data": {
      "text/plain": [
       "125000"
      ]
     },
     "execution_count": 98,
     "metadata": {},
     "output_type": "execute_result"
    }
   ],
   "source": [
    "len(qp.fullmesh['energy_K2'])"
   ]
  },
  {
   "cell_type": "code",
   "execution_count": 130,
   "id": "812767d4-4f2b-4c84-bbdc-2445a7db84f3",
   "metadata": {},
   "outputs": [
    {
     "data": {
      "text/plain": [
       "8"
      ]
     },
     "execution_count": 130,
     "metadata": {},
     "output_type": "execute_result"
    }
   ],
   "source": [
    "dataset = qp.fullmesh[\"energy_K2\"]\n",
    "hist = np.histogram(dataset, 10)\n",
    "\n",
    "np.max(np.where(np.cumsum(np.histogram(qp.fullmesh[\"energy_K2\"], 10)[0]) < 0.9999999 * len(qp.fullmesh[\"energy_K2\"]))[0])"
   ]
  },
  {
   "cell_type": "code",
   "execution_count": 45,
   "id": "15d2d85b-9001-49ff-bf28-d46106cb9d07",
   "metadata": {},
   "outputs": [
    {
     "data": {
      "text/plain": [
       "<PyQt5.QtWidgets.QWidgetAction at 0x7fa7c5bd2e50>"
      ]
     },
     "execution_count": 45,
     "metadata": {},
     "output_type": "execute_result"
    }
   ],
   "source": [
    "\n",
    "actor_name = 'energy_K2_isosurface'\n",
    "self=qp\n",
    "\n",
    "spinbox = qw.QDoubleSpinBox()\n",
    "spinbox.setDecimals(3)\n",
    "spinbox.valueChanged.connect(\n",
    "    lambda value: self.QSliders_updaters[actor_name](value))\n",
    "self.QSliders_toolbar.addWidget(spinbox)"
   ]
  },
  {
   "cell_type": "code",
   "execution_count": null,
   "id": "aca7a502-4a5c-4577-8a9f-54093d9492ae",
   "metadata": {},
   "outputs": [],
   "source": []
  },
  {
   "cell_type": "code",
   "execution_count": 46,
   "id": "ff77e7f4-23e6-4bb4-b4f2-33222a6d62e9",
   "metadata": {},
   "outputs": [
    {
     "data": {
      "text/plain": [
       "<PyQt5.QtWidgets.QWidgetAction at 0x7fa7caa1c160>"
      ]
     },
     "execution_count": 46,
     "metadata": {},
     "output_type": "execute_result"
    }
   ],
   "source": [
    "little_row = qw.QToolBar()\n",
    "checkbox1 = qw.QCheckBox('show')\n",
    "checkbox2 = qw.QCheckBox('show')\n",
    "little_row.addWidget(checkbox1)\n",
    "little_row.addWidget(checkbox2)\n",
    "qp.QSliders_toolbar.addWidget(little_row)"
   ]
  },
  {
   "cell_type": "code",
   "execution_count": 701,
   "id": "b3ea8a5c-2b45-4ac9-9b80-c1b6cd8b789d",
   "metadata": {},
   "outputs": [],
   "source": [
    "qp.add_visibility_checkbox('energy_K3_isosurface')visibility_checkboxes"
   ]
  },
  {
   "cell_type": "code",
   "execution_count": 672,
   "id": "ffe22eed-c3e1-466a-be13-131ba1fb956b",
   "metadata": {},
   "outputs": [],
   "source": [
    "qp.widget_menu.actions()[0].setObjectName('hi')"
   ]
  },
  {
   "cell_type": "code",
   "execution_count": 705,
   "id": "132f0199-9621-4086-849a-b7a3872f36dc",
   "metadata": {},
   "outputs": [],
   "source": [
    "qp.renderer.actors['energy_K2_isosurface'].SetVisibility(0)"
   ]
  },
  {
   "cell_type": "code",
   "execution_count": 739,
   "id": "318be651-bb24-405f-8211-3084aea42403",
   "metadata": {},
   "outputs": [
    {
     "data": {
      "text/plain": [
       "{'boundaries': (vtkmodules.vtkRenderingOpenGL2.vtkOpenGLActor)0x7f88214ece80,\n",
       " 'boundary_1': (vtkmodules.vtkRenderingOpenGL2.vtkOpenGLActor)0x7f88214ec700,\n",
       " 'boundary_2': (vtkmodules.vtkRenderingOpenGL2.vtkOpenGLActor)0x7f88214ecdc0,\n",
       " 'defects': (vtkmodules.vtkRenderingOpenGL2.vtkOpenGLActor)0x7f88214ec9a0,\n",
       " 'outline': (vtkmodules.vtkRenderingOpenGL2.vtkOpenGLActor)0x7f88214fa160,\n",
       " 'director': (vtkmodules.vtkRenderingOpenGL2.vtkOpenGLActor)0x7f88214fa580,\n",
       " 'slice_plane': (vtkmodules.vtkRenderingOpenGL2.vtkOpenGLActor)0x7f88214faa60,\n",
       " 'energy_K3_isosurface': (vtkmodules.vtkRenderingOpenGL2.vtkOpenGLActor)0x7f88214da9a0,\n",
       " \"energy_K3_isosurface'\": (vtkmodules.vtkRenderingOpenGL2.vtkOpenGLActor)0x7f8821536a00}"
      ]
     },
     "execution_count": 739,
     "metadata": {},
     "output_type": "execute_result"
    }
   ],
   "source": [
    "qp.renderer.actors"
   ]
  },
  {
   "cell_type": "code",
   "execution_count": 43,
   "id": "30a80eee-0053-4120-970a-75c7bb5ed6d0",
   "metadata": {},
   "outputs": [
    {
     "data": {
      "text/plain": [
       "{'defects': <PyQt5.QtWidgets.QSlider at 0x7fa7c3f0b700>}"
      ]
     },
     "execution_count": 43,
     "metadata": {},
     "output_type": "execute_result"
    }
   ],
   "source": [
    "qp.QSliders"
   ]
  },
  {
   "cell_type": "code",
   "execution_count": 624,
   "id": "b2e241f9-bdba-4bc1-8bc0-d1d365310f11",
   "metadata": {},
   "outputs": [
    {
     "ename": "TypeError",
     "evalue": "connect() missing required argument 'slot' (pos 1)",
     "output_type": "error",
     "traceback": [
      "\u001b[0;31m---------------------------------------------------------------------------\u001b[0m",
      "\u001b[0;31mTypeError\u001b[0m                                 Traceback (most recent call last)",
      "\u001b[0;32m/var/folders/pt/1x9c1p2s02ggqr8yh1p00ln40000gn/T/ipykernel_46173/570094252.py\u001b[0m in \u001b[0;36m<module>\u001b[0;34m\u001b[0m\n\u001b[0;32m----> 1\u001b[0;31m \u001b[0mqw\u001b[0m\u001b[0;34m.\u001b[0m\u001b[0mQCheckBox\u001b[0m\u001b[0;34m(\u001b[0m\u001b[0;34m)\u001b[0m\u001b[0;34m.\u001b[0m\u001b[0mclicked\u001b[0m\u001b[0;34m.\u001b[0m\u001b[0mconnect\u001b[0m\u001b[0;34m(\u001b[0m\u001b[0;34m)\u001b[0m\u001b[0;34m\u001b[0m\u001b[0;34m\u001b[0m\u001b[0m\n\u001b[0m",
      "\u001b[0;31mTypeError\u001b[0m: connect() missing required argument 'slot' (pos 1)"
     ]
    }
   ],
   "source": [
    "qw.QCheckBox().clicked.connect()"
   ]
  },
  {
   "cell_type": "code",
   "execution_count": null,
   "id": "9d2a3930-f0fc-4fdc-bd1d-69d897983e52",
   "metadata": {},
   "outputs": [],
   "source": [
    "checkbox."
   ]
  },
  {
   "cell_type": "code",
   "execution_count": 587,
   "id": "ee9cf747-69a1-48d4-b88a-6437153b5285",
   "metadata": {},
   "outputs": [
    {
     "data": {
      "text/plain": [
       "<PyQt5.QtWidgets.QWidgetAction at 0x7f88ffe42040>"
      ]
     },
     "execution_count": 587,
     "metadata": {},
     "output_type": "execute_result"
    },
    {
     "name": "stderr",
     "output_type": "stream",
     "text": [
      "Traceback (most recent call last):\n",
      "  File \"/var/folders/pt/1x9c1p2s02ggqr8yh1p00ln40000gn/T/ipykernel_46173/1073132292.py\", line 93, in <lambda>\n",
      "    lambda: qp.widget_menu.actions()[1].setChecked(\n",
      "IndexError: list index out of range\n"
     ]
    }
   ],
   "source": [
    "color_button = qw.QPushButton('color')\n",
    "color_button.clicked.connect(lambda: qp.color_picker('defects'))\n",
    "qp.QSliders_toolbar.addWidget(color_button)"
   ]
  },
  {
   "cell_type": "code",
   "execution_count": 304,
   "id": "2708da89-94fc-446e-a1c2-79039ac3f119",
   "metadata": {},
   "outputs": [],
   "source": [
    "qp.checkboxes_toolbar = qw.QToolBar()\n",
    "qp.color_defects_by_L24_button = qw.QCheckBox(\"L24 color\")\n",
    "\n",
    "def toggle_color_by_L24():\n",
    "    qp.color_defects_by_L24 = 1 - qp.color_defects_by_L24\n",
    "    slider = qp.QSliders['defects']\n",
    "    slider.setValue(slider.value()+1)\n",
    "    slider.setValue(slider.value()-1)\n",
    "#     qp.QSliders['defects'].setValue(qp.QSliders['defects'].value()+1)\n",
    "#     qp.QSliders['defects'].setValue(qp.QSliders['defects'].value()-1)\n",
    "    \n",
    "qp.color_defects_by_L24_button.toggled.connect(toggle_color_by_L24)\n",
    "qp.checkboxes_toolbar.addWidget(qp.color_defects_by_L24_button)\n",
    "qp.app_window.addToolBar(Qt.Qt.TopToolBarArea, qp.checkboxes_toolbar)"
   ]
  },
  {
   "cell_type": "code",
   "execution_count": 554,
   "id": "9dfc0c1b-5099-4b9a-9eaa-890938510442",
   "metadata": {},
   "outputs": [
    {
     "ename": "TypeError",
     "evalue": "SetShaderProperty argument 1: method requires a VTK object",
     "output_type": "error",
     "traceback": [
      "\u001b[0;31m---------------------------------------------------------------------------\u001b[0m",
      "\u001b[0;31mTypeError\u001b[0m                                 Traceback (most recent call last)",
      "\u001b[0;32m/var/folders/pt/1x9c1p2s02ggqr8yh1p00ln40000gn/T/ipykernel_46173/4201721186.py\u001b[0m in \u001b[0;36m<module>\u001b[0;34m\u001b[0m\n\u001b[0;32m----> 1\u001b[0;31m \u001b[0mqp\u001b[0m\u001b[0;34m.\u001b[0m\u001b[0mrenderer\u001b[0m\u001b[0;34m.\u001b[0m\u001b[0mactors\u001b[0m\u001b[0;34m[\u001b[0m\u001b[0;34m'energy_K2_isosurface'\u001b[0m\u001b[0;34m]\u001b[0m\u001b[0;34m.\u001b[0m\u001b[0mSetShaderProperty\u001b[0m\u001b[0;34m(\u001b[0m\u001b[0;34m'color'\u001b[0m\u001b[0;34m)\u001b[0m\u001b[0;34m\u001b[0m\u001b[0;34m\u001b[0m\u001b[0m\n\u001b[0m",
      "\u001b[0;31mTypeError\u001b[0m: SetShaderProperty argument 1: method requires a VTK object"
     ]
    }
   ],
   "source": []
  },
  {
   "cell_type": "code",
   "execution_count": 224,
   "id": "df353f6e-de71-4237-852e-a3dc43bb72cb",
   "metadata": {},
   "outputs": [],
   "source": [
    "qp.QSliders['defects'].updatesEnabled()\n",
    "qp.QSliders['defects'].setValue(qp.QSliders['defects'].value()+1)"
   ]
  },
  {
   "cell_type": "code",
   "execution_count": 210,
   "id": "97960e06-dcfd-4f2c-94f2-50b769743013",
   "metadata": {},
   "outputs": [],
   "source": [
    "qp.renderer.enable_parallel_projection()"
   ]
  },
  {
   "cell_type": "markdown",
   "id": "771ae268-f2a4-4344-8659-b5fa9513f327",
   "metadata": {},
   "source": [
    "###### import qtpy.QtGui as qg\n",
    "\n",
    "def blah(event):\n",
    "    qp.lighting_slider_label.setText('aoweifj')\n",
    "\n",
    "qp.lighting_slider_label.mousePressEvent = blah\n"
   ]
  },
  {
   "cell_type": "code",
   "execution_count": 15,
   "id": "208ee662-c8f1-47a6-9c2e-20b9cf3fad54",
   "metadata": {},
   "outputs": [
    {
     "data": {
      "text/plain": [
       "<PyQt5.QtCore.QMetaObject.Connection at 0x7f8a9ddf49e0>"
      ]
     },
     "execution_count": 15,
     "metadata": {},
     "output_type": "execute_result"
    }
   ],
   "source": [
    "# b = qw.QLineEdit(\"fish\")\n",
    "# qp.QSliders_toolbar.addWidget(b)\n",
    "b.setText(\"moo\")\n",
    "\n",
    "def rename_window(newname):\n",
    "    qp.app_window.setWindowTitle(newname)\n",
    "    \n",
    "b.textEdited.connect(rename_window)"
   ]
  },
  {
   "cell_type": "code",
   "execution_count": 25,
   "id": "5d0a2cc3-5d79-4655-8391-497ac7c38a50",
   "metadata": {},
   "outputs": [
    {
     "data": {
      "text/plain": [
       "<PyQt5.QtWidgets.QWidgetAction at 0x7f8a9eab4040>"
      ]
     },
     "execution_count": 25,
     "metadata": {},
     "output_type": "execute_result"
    }
   ],
   "source": [
    "c = qw.QDoubleSpinBox()\n",
    "c.setPrefix(\"S  \")\n",
    "c.setRange(-2.,5.)\n",
    "c.setDecimals(4)\n",
    "c.setSingleStep(0.1)\n",
    "c.setValue(2)\n",
    "qp.QSliders_toolbar.addWidget(c)"
   ]
  },
  {
   "cell_type": "code",
   "execution_count": null,
   "id": "6f9d7c40-8d64-4470-a0a6-a392056740b9",
   "metadata": {},
   "outputs": [],
   "source": [
    "qw.QPushButton"
   ]
  },
  {
   "cell_type": "code",
   "execution_count": 3,
   "id": "c673cbca-31d7-4977-9e96-c317a1a62443",
   "metadata": {
    "extensions": {
     "jupyter_dashboards": {
      "activeView": "grid_default",
      "views": {
       "grid_default": {
        "col": null,
        "height": 2,
        "hidden": true,
        "row": null,
        "width": 2
       }
      }
     }
    },
    "tags": []
   },
   "outputs": [],
   "source": [
    "qp = Qmin_plot([\"tetstGUIbdys_x0y0z0.txt\"])"
   ]
  },
  {
   "cell_type": "code",
   "execution_count": 74,
   "id": "a905f0ba-f31d-4361-b69a-a8db1fe55e5a",
   "metadata": {},
   "outputs": [],
   "source": [
    "qp.next_frame_button=qw.QToolButton()"
   ]
  },
  {
   "cell_type": "code",
   "execution_count": 78,
   "id": "f91b492e-5261-4007-b68e-e862174dee74",
   "metadata": {},
   "outputs": [
    {
     "ename": "TypeError",
     "evalue": "addAction(self, QAction): argument 1 has unexpected type 'Qmin_plot'",
     "output_type": "error",
     "traceback": [
      "\u001b[0;31m---------------------------------------------------------------------------\u001b[0m",
      "\u001b[0;31mTypeError\u001b[0m                                 Traceback (most recent call last)",
      "\u001b[0;32m/var/folders/pt/1x9c1p2s02ggqr8yh1p00ln40000gn/T/ipykernel_31135/2435977193.py\u001b[0m in \u001b[0;36m<module>\u001b[0;34m\u001b[0m\n\u001b[0;32m----> 1\u001b[0;31m \u001b[0mqp\u001b[0m\u001b[0;34m.\u001b[0m\u001b[0mnext_frame_button\u001b[0m\u001b[0;34m.\u001b[0m\u001b[0maddAction\u001b[0m\u001b[0;34m(\u001b[0m\u001b[0mqp\u001b[0m\u001b[0;34m,\u001b[0m \u001b[0mqp\u001b[0m\u001b[0;34m.\u001b[0m\u001b[0mnext_frame\u001b[0m\u001b[0;34m(\u001b[0m\u001b[0;34m)\u001b[0m\u001b[0;34m)\u001b[0m\u001b[0;34m\u001b[0m\u001b[0;34m\u001b[0m\u001b[0m\n\u001b[0m",
      "\u001b[0;31mTypeError\u001b[0m: addAction(self, QAction): argument 1 has unexpected type 'Qmin_plot'"
     ]
    }
   ],
   "source": [
    "qp.next_frame_button.addAction(qp, qp.next_frame())"
   ]
  },
  {
   "cell_type": "code",
   "execution_count": null,
   "id": "7ee3d800-6699-4e3e-9b33-8792275973a1",
   "metadata": {},
   "outputs": [],
   "source": [
    "qp.app_window.setMouseTracking(True)\n",
    "qp.app_window.mouseMoveEvent(qp.pos())"
   ]
  },
  {
   "cell_type": "code",
   "execution_count": 37,
   "id": "28b3299f-3f61-4223-acda-ca160da37415",
   "metadata": {},
   "outputs": [
    {
     "ename": "TypeError",
     "evalue": "mouseMoveEvent(self, QMouseEvent): not enough arguments",
     "output_type": "error",
     "traceback": [
      "\u001b[0;31m---------------------------------------------------------------------------\u001b[0m",
      "\u001b[0;31mTypeError\u001b[0m                                 Traceback (most recent call last)",
      "\u001b[0;32m/var/folders/pt/1x9c1p2s02ggqr8yh1p00ln40000gn/T/ipykernel_43854/2276911326.py\u001b[0m in \u001b[0;36m<module>\u001b[0;34m\u001b[0m\n\u001b[0;32m----> 1\u001b[0;31m \u001b[0mhelp\u001b[0m\u001b[0;34m(\u001b[0m\u001b[0mqp\u001b[0m\u001b[0;34m.\u001b[0m\u001b[0mapp_window\u001b[0m\u001b[0;34m.\u001b[0m\u001b[0mmouseMoveEvent\u001b[0m\u001b[0;34m(\u001b[0m\u001b[0;34m)\u001b[0m\u001b[0;34m)\u001b[0m\u001b[0;34m\u001b[0m\u001b[0;34m\u001b[0m\u001b[0m\n\u001b[0m",
      "\u001b[0;31mTypeError\u001b[0m: mouseMoveEvent(self, QMouseEvent): not enough arguments"
     ]
    }
   ],
   "source": [
    "help(qp.app_window.mouseMoveEvent())"
   ]
  },
  {
   "cell_type": "code",
   "execution_count": 28,
   "id": "44c5230e-7803-4bed-a119-2a8b58cee908",
   "metadata": {},
   "outputs": [],
   "source": [
    "qp.frame_toolbar = qw.QToolBar('frames')\n",
    "qp.app_window.addToolBar(qp.frame_toolbar)\n",
    "qp.next_frame_button = qw.QPushButton(\">\")"
   ]
  },
  {
   "cell_type": "code",
   "execution_count": 106,
   "id": "378a6d9d-479b-42ce-9ddc-d15c433b8325",
   "metadata": {},
   "outputs": [],
   "source": [
    "self=qp\n",
    "n_xyz = qp.fullmesh[\"director\"].reshape(self.Lx, self.Ly, self.Lz, 3)\n",
    "dinj = np.moveaxis(\n",
    "    np.array(\n",
    "    [np.roll(n_xyz, -1, axis=i) - np.roll(n_xyz, 1, axis=i) \n",
    "     for i in range(3)]),\n",
    "    0, -2\n",
    ")\n",
    "#     self.Q33_xyz = self.Q33.reshape((self.Lx,self.Ly,self.Lz,3,3))        \n",
    "#         self.diQjk = np.moveaxis(\n",
    "#             np.array(\n",
    "#                 [np.roll(self.Q33_xyz,-1, axis=i) \n",
    "#                  - np.roll(self.Q33_xyz,1, axis=i) \n",
    "#                  for i in range(3)]\n",
    "#             ),\n",
    "#             0, -3\n",
    "#         ) \n",
    "#     "
   ]
  },
  {
   "cell_type": "code",
   "execution_count": 115,
   "id": "da30cd0d-3a19-483e-95c4-77c954de0250",
   "metadata": {},
   "outputs": [
    {
     "data": {
      "text/plain": [
       "(50, 50, 50, 3, 3)"
      ]
     },
     "execution_count": 115,
     "metadata": {},
     "output_type": "execute_result"
    }
   ],
   "source": [
    "dinj = np.empty(qp.dims + (3,3))\n",
    "for i in range(3):\n",
    "    n_i_up = np.roll(n_xyz, -1, axis=i)\n",
    "    n_i_dn = np.roll(n_xyz, 1, axis=i)\n",
    "    n_i_dn *= np.stack( (np.sign(np.sum(n_i_up * n_i_dn, axis=-1)),)*3, axis=-1)\n",
    "    dinj[...,i,:] = n_i_up - n_i_dn\n",
    "dinj.shape    "
   ]
  },
  {
   "cell_type": "code",
   "execution_count": 118,
   "id": "abc88b2a-fe02-4b10-be52-53cd1d9f7028",
   "metadata": {},
   "outputs": [
    {
     "ename": "ValueError",
     "evalue": "more operands provided to einstein sum function than specified in the subscripts string",
     "output_type": "error",
     "traceback": [
      "\u001b[0;31m---------------------------------------------------------------------------\u001b[0m",
      "\u001b[0;31mValueError\u001b[0m                                Traceback (most recent call last)",
      "\u001b[0;32m/var/folders/pt/1x9c1p2s02ggqr8yh1p00ln40000gn/T/ipykernel_31135/2966037365.py\u001b[0m in \u001b[0;36m<module>\u001b[0;34m\u001b[0m\n\u001b[0;32m----> 1\u001b[0;31m \u001b[0mdiv_n\u001b[0m \u001b[0;34m=\u001b[0m \u001b[0mnp\u001b[0m\u001b[0;34m.\u001b[0m\u001b[0meinsum\u001b[0m\u001b[0;34m(\u001b[0m\u001b[0;34m\"...,i,i->...,i\"\u001b[0m\u001b[0;34m,\u001b[0m \u001b[0mdinj\u001b[0m\u001b[0;34m)\u001b[0m\u001b[0;34m\u001b[0m\u001b[0;34m\u001b[0m\u001b[0m\n\u001b[0m",
      "\u001b[0;32m<__array_function__ internals>\u001b[0m in \u001b[0;36meinsum\u001b[0;34m(*args, **kwargs)\u001b[0m\n",
      "\u001b[0;32m/Library/Frameworks/Python.framework/Versions/3.9/lib/python3.9/site-packages/numpy/core/einsumfunc.py\u001b[0m in \u001b[0;36meinsum\u001b[0;34m(out, optimize, *operands, **kwargs)\u001b[0m\n\u001b[1;32m   1359\u001b[0m         \u001b[0;32mif\u001b[0m \u001b[0mspecified_out\u001b[0m\u001b[0;34m:\u001b[0m\u001b[0;34m\u001b[0m\u001b[0;34m\u001b[0m\u001b[0m\n\u001b[1;32m   1360\u001b[0m             \u001b[0mkwargs\u001b[0m\u001b[0;34m[\u001b[0m\u001b[0;34m'out'\u001b[0m\u001b[0;34m]\u001b[0m \u001b[0;34m=\u001b[0m \u001b[0mout\u001b[0m\u001b[0;34m\u001b[0m\u001b[0;34m\u001b[0m\u001b[0m\n\u001b[0;32m-> 1361\u001b[0;31m         \u001b[0;32mreturn\u001b[0m \u001b[0mc_einsum\u001b[0m\u001b[0;34m(\u001b[0m\u001b[0;34m*\u001b[0m\u001b[0moperands\u001b[0m\u001b[0;34m,\u001b[0m \u001b[0;34m**\u001b[0m\u001b[0mkwargs\u001b[0m\u001b[0;34m)\u001b[0m\u001b[0;34m\u001b[0m\u001b[0;34m\u001b[0m\u001b[0m\n\u001b[0m\u001b[1;32m   1362\u001b[0m \u001b[0;34m\u001b[0m\u001b[0m\n\u001b[1;32m   1363\u001b[0m     \u001b[0;31m# Check the kwargs to avoid a more cryptic error later, without having to\u001b[0m\u001b[0;34m\u001b[0m\u001b[0;34m\u001b[0m\u001b[0;34m\u001b[0m\u001b[0m\n",
      "\u001b[0;31mValueError\u001b[0m: more operands provided to einstein sum function than specified in the subscripts string"
     ]
    }
   ],
   "source": [
    "div_n = np.einsum(\"...,i,i->...,i\", dinj)"
   ]
  },
  {
   "cell_type": "code",
   "execution_count": null,
   "id": "5a7d53f0-cf2a-4d6b-af3f-2530dd7c6e97",
   "metadata": {},
   "outputs": [],
   "source": [
    "qp.next_frame_button.addAction(Qt.QA)"
   ]
  },
  {
   "cell_type": "code",
   "execution_count": 160,
   "id": "94f2fa6d-cfd5-4d30-ae12-73091bf7f999",
   "metadata": {},
   "outputs": [],
   "source": [
    "\n",
    "qp.scalar_bars[\"energy_K2\"].SetPosition([0])\n",
    "qp.scalar_bars[\"energy_K2\"].SetDragable(1)\n",
    "\n",
    "# qp.scalar_bars[\"energy_K2\"].keys()setup_director_slice_widget"
   ]
  },
  {
   "cell_type": "code",
   "execution_count": 465,
   "id": "6a13907d-2ed9-42e4-b93a-0bd2853423ef",
   "metadata": {},
   "outputs": [
    {
     "data": {
      "text/plain": [
       "Scalar Bar Title     Interactive\n",
       "\"energy_L1\"          False"
      ]
     },
     "execution_count": 465,
     "metadata": {},
     "output_type": "execute_result"
    }
   ],
   "source": [
    "qp.scalar_bars"
   ]
  },
  {
   "cell_type": "code",
   "execution_count": 463,
   "id": "076a8150-ee00-403e-b35d-bc7980882c51",
   "metadata": {},
   "outputs": [
    {
     "ename": "KeyError",
     "evalue": "'Addr=0x7fdd160190b0'",
     "output_type": "error",
     "traceback": [
      "\u001b[0;31m---------------------------------------------------------------------------\u001b[0m",
      "\u001b[0;31mKeyError\u001b[0m                                  Traceback (most recent call last)",
      "\u001b[0;32m/var/folders/pt/1x9c1p2s02ggqr8yh1p00ln40000gn/T/ipykernel_46173/2858512581.py\u001b[0m in \u001b[0;36m<module>\u001b[0;34m\u001b[0m\n\u001b[0;32m----> 1\u001b[0;31m \u001b[0mqp\u001b[0m\u001b[0;34m.\u001b[0m\u001b[0mrenderer\u001b[0m\u001b[0;34m.\u001b[0m\u001b[0mactors\u001b[0m\u001b[0;34m[\u001b[0m\u001b[0;34m'Addr=0x7fdd160190b0'\u001b[0m\u001b[0;34m]\u001b[0m\u001b[0;34m.\u001b[0m\u001b[0mSetVisibility\u001b[0m\u001b[0;34m(\u001b[0m\u001b[0;36m1\u001b[0m\u001b[0;34m)\u001b[0m\u001b[0;34m\u001b[0m\u001b[0;34m\u001b[0m\u001b[0m\n\u001b[0m\u001b[1;32m      2\u001b[0m \u001b[0mqp\u001b[0m\u001b[0;34m.\u001b[0m\u001b[0mrenderer\u001b[0m\u001b[0;34m.\u001b[0m\u001b[0mactors\u001b[0m\u001b[0;34m[\u001b[0m\u001b[0;34m'Addr=0x7fdd160190b0'\u001b[0m\u001b[0;34m]\u001b[0m\u001b[0;34m.\u001b[0m\u001b[0mSetPickable\u001b[0m\u001b[0;34m(\u001b[0m\u001b[0;36m1\u001b[0m\u001b[0;34m)\u001b[0m\u001b[0;34m\u001b[0m\u001b[0;34m\u001b[0m\u001b[0m\n\u001b[1;32m      3\u001b[0m \u001b[0mqp\u001b[0m\u001b[0;34m.\u001b[0m\u001b[0mrenderer\u001b[0m\u001b[0;34m.\u001b[0m\u001b[0mactors\u001b[0m\u001b[0;34m[\u001b[0m\u001b[0;34m'Addr=0x7fdd160190b0'\u001b[0m\u001b[0;34m]\u001b[0m\u001b[0;34m.\u001b[0m\u001b[0mSetDragable\u001b[0m\u001b[0;34m(\u001b[0m\u001b[0;36m1\u001b[0m\u001b[0;34m)\u001b[0m\u001b[0;34m\u001b[0m\u001b[0;34m\u001b[0m\u001b[0m\n",
      "\u001b[0;31mKeyError\u001b[0m: 'Addr=0x7fdd160190b0'"
     ]
    }
   ],
   "source": [
    "qp.renderer.actors['Addr=0x7fdd160190b0'].SetVisibility(1)\n",
    "qp.renderer.actors['Addr=0x7fdd160190b0'].SetPickable(1)\n",
    "qp.renderer.actors['Addr=0x7fdd160190b0'].SetDragable(1)"
   ]
  },
  {
   "cell_type": "code",
   "execution_count": null,
   "id": "950b51d1-48db-4263-88f7-74ae349c3f02",
   "metadata": {},
   "outputs": [],
   "source": []
  },
  {
   "cell_type": "code",
   "execution_count": null,
   "id": "315321c6-c23e-4a55-adba-e2e80c04b70b",
   "metadata": {},
   "outputs": [],
   "source": []
  },
  {
   "cell_type": "code",
   "execution_count": null,
   "id": "9c86c519-b8d4-41d8-8e16-a08a25483a48",
   "metadata": {},
   "outputs": [],
   "source": []
  },
  {
   "cell_type": "code",
   "execution_count": null,
   "id": "307332ff-d502-4863-ba3d-da0d3254b5c7",
   "metadata": {},
   "outputs": [],
   "source": []
  },
  {
   "cell_type": "code",
   "execution_count": null,
   "id": "9c359c07-1924-47c8-9b7b-7ec618cb4d48",
   "metadata": {},
   "outputs": [],
   "source": []
  }
 ],
 "metadata": {
  "extensions": {
   "jupyter_dashboards": {
    "activeView": "grid_default",
    "version": 1,
    "views": {
     "grid_default": {
      "cellMargin": 2,
      "defaultCellHeight": 60,
      "maxColumns": 12,
      "name": "grid",
      "type": "grid"
     }
    }
   }
  },
  "kernelspec": {
   "display_name": "Qmin-vis-env9",
   "language": "python",
   "name": "qmin-vis-env9"
  },
  "language_info": {
   "codemirror_mode": {
    "name": "ipython",
    "version": 3
   },
   "file_extension": ".py",
   "mimetype": "text/x-python",
   "name": "python",
   "nbconvert_exporter": "python",
   "pygments_lexer": "ipython3",
   "version": "3.9.5"
  }
 },
 "nbformat": 4,
 "nbformat_minor": 5
}
