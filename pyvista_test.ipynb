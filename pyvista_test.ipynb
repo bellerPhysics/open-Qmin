{
 "cells": [
  {
   "cell_type": "markdown",
   "id": "4a5651ae-cf5c-4b55-81db-20baa4d2756e",
   "metadata": {
    "extensions": {
     "jupyter_dashboards": {
      "activeView": "grid_default",
      "views": {
       "grid_default": {
        "col": null,
        "height": 2,
        "hidden": true,
        "row": null,
        "width": 2
       }
      }
     }
    }
   },
   "source": [
    "## Python environment\n",
    "\n",
    "With python3.9 the following commands in the command line should create an environment sufficient to run this notebook.\n",
    "\n",
    "```\n",
    "    envname=\"Qmin-vis-env\"   \n",
    "    python3 -m venv \"$envname\"\n",
    "    source \"$envname\"/bin/activate  \n",
    "    python3 -m pip install pandas pyvistaqt jupyterlab PyQt5 tqdm\n",
    "    python3 -m ipykernel install --name=\"$envname\" --user\n",
    "```    \n",
    "\n",
    "(This assumes `python3` points to an installation of python3.9. I'm not sure about other versions yet but it looks like python3.10 is not working as of 10/27/21. You may have to open jupyter lab as `python3 -m jupyter lab`.)"
   ]
  },
  {
   "cell_type": "code",
   "execution_count": 1,
   "id": "698cec58-426c-4a0c-be93-2a41a8e4753a",
   "metadata": {
    "extensions": {
     "jupyter_dashboards": {
      "activeView": "grid_default",
      "views": {
       "grid_default": {
        "col": null,
        "height": 2,
        "hidden": true,
        "row": null,
        "width": 2
       }
      }
     }
    }
   },
   "outputs": [],
   "source": [
    "from pandas import read_csv\n",
    "import pyvista as pv\n",
    "import pyvistaqt as pvqt\n",
    "import numpy as np\n",
    "from PyQt5 import QtWidgets as qw"
   ]
  },
  {
   "cell_type": "code",
   "execution_count": 4,
   "id": "d376d651-bfed-4399-8db6-46c217b79487",
   "metadata": {
    "extensions": {
     "jupyter_dashboards": {
      "activeView": "grid_default",
      "views": {
       "grid_default": {
        "col": null,
        "height": 2,
        "hidden": true,
        "row": null,
        "width": 2
       }
      }
     }
    }
   },
   "outputs": [],
   "source": [
    "settings = {\n",
    "    \"boundaries_color\":\"green\",\n",
    "    \"director_color\":\"red\",\n",
    "    \"director_resolution\":0.025, # \"tolerance\" for density of director glyphs (lower means more rods)\n",
    "    \"default_defect_S\":0.3, # initialization order value for defect isosurfaces\n",
    "    \"defect_color\":(37/256,150/256,190/256),\n",
    "    \"checkbox_size\":50, # size of toggle boxes in pixels\n",
    "    \"checkbox_spacing\":10, # spacing between toggle boxes in pixels\n",
    "    \"window_size\":(1200,800), # window size in pixels\n",
    "    \"cylinder_resolution\":8, # angular resolution for each cylindrical rod; larger values look nicer but take longer to compute\n",
    "    \"slice_plane_color\":\"lightyellow\", # set to None to use slice_color_function instead    \n",
    "    \"slice_cmap\":\"cividis\", # color map for use with slice_color_function\n",
    "    \"slice_color_function\":(lambda slc: np.abs(slc[\"director\"][:,0])), # optionally color slice plane by some function of director or order\n",
    "    \"plane_widget_color\":\"orange\",\n",
    "    \"energy_L1_color\":\"yellow\",\n",
    "    \"energy_L2_color\":\"pink\",\n",
    "    \"energy_L3_color\":\"purple\",\n",
    "}"
   ]
  },
  {
   "cell_type": "code",
   "execution_count": 3,
   "id": "39561430-668b-4756-82b8-7385eaa20bef",
   "metadata": {
    "extensions": {
     "jupyter_dashboards": {
      "activeView": "grid_default",
      "views": {
       "grid_default": {
        "col": null,
        "height": 2,
        "hidden": true,
        "row": null,
        "width": 2
       }
      }
     }
    }
   },
   "outputs": [],
   "source": [
    "\"\"\"Get that file!\"\"\"\n",
    "\n",
    "# !scp dbeller@skyrmion.ucmerced.edu:open-Qmin-clones/clone7/tetstGUIbdys_x0y0z0.txt ./\n",
    "dat = np.array(read_csv(\"tetstGUIbdys_x0y0z0.txt\", sep=\"\\t\", header=None))"
   ]
  },
  {
   "cell_type": "code",
   "execution_count": 10,
   "id": "8a2fb6fc-555a-443a-aeaf-af476f94e84e",
   "metadata": {
    "extensions": {
     "jupyter_dashboards": {
      "activeView": "grid_default",
      "views": {
       "grid_default": {
        "col": null,
        "height": 2,
        "hidden": true,
        "row": null,
        "width": 2
       }
      }
     }
    }
   },
   "outputs": [],
   "source": [
    "\n",
    "for key, value in zip(settings.keys(), settings.values()):\n",
    "    settings[key] = value\n"
   ]
  },
  {
   "cell_type": "code",
   "execution_count": 109,
   "id": "44d2ce96-1cfe-4aa7-b526-7f67b4f795ea",
   "metadata": {
    "extensions": {
     "jupyter_dashboards": {
      "activeView": "grid_default",
      "views": {
       "grid_default": {
        "col": null,
        "height": 2,
        "hidden": true,
        "row": null,
        "width": 2
       }
      }
     }
    }
   },
   "outputs": [],
   "source": [
    "class Qmin_plot(pvqt.BackgroundPlotter):\n",
    "    def __init__(self, oQm_data, user_settings):\n",
    "        super().__init__(window_size=settings[\"window_size\"])\n",
    "        self.set_settings(user_settings)\n",
    "            \n",
    "        self.Lx, self.Ly, self.Lz = [ int(item+1) for item in oQm_data[-1,:3] ]\n",
    "        self.meshdata_from_file(oQm_data)\n",
    "        \n",
    "        ## global options\n",
    "        pv.global_theme.title = \"open-Qmin visualization with pyvistaqt\"\n",
    "        \n",
    "\n",
    "        self.enable_eye_dome_lighting()    \n",
    "        self.renderer.add_axes(interactive=True, color='black') # xyz axes arrows\n",
    "        self.renderer.set_background(\"white\")\n",
    "        \n",
    "        \n",
    "      \n",
    "        self.add_mesh(\n",
    "            self.fullmesh.contour([0.5], scalars=\"nematic_sites\"), \n",
    "            show_scalar_bar=False, \n",
    "            color=self.settings[\"boundaries_color\"],\n",
    "            name=\"boundaries\",\n",
    "            ambient=1,\n",
    "    #         specular=1, ambient=1, # lighting\n",
    "    #         smooth_shading=True, # very smooth! \n",
    "            pbr=True, metallic=0.5, roughness=0.25, diffuse=1\n",
    "            )   \n",
    "        \n",
    "        self.plane_widget_toggle(_,True)   \n",
    "        \n",
    "\n",
    "        self.visibilities = {\n",
    "            \"defects\": True,\n",
    "            \"L1_isosurface\": False,\n",
    "            \"L2_isosurface\": False,\n",
    "            \"L3_isosurface\": False\n",
    "        }\n",
    "        \n",
    "        self.QSliders_toolbar = self.app_window.addToolBar('QSliders')\n",
    "\n",
    "        self.QSliders={}\n",
    "        \n",
    "        actor_name=\"defects\"\n",
    "        self.defects_label, self.set_defect_S, self.QSliders[actor_name] = self.add_QSlider(\n",
    "            self.update_defects,\n",
    "            self.QSliders_toolbar,\n",
    "            actor_name,            \n",
    "            scalars=self.fullmesh[\"order\"],\n",
    "            min_val=0,\n",
    "            label_txt=\"S\"\n",
    "        )\n",
    "        \n",
    "        self.update_L1 = lambda value: self.update_Li(value, 1)\n",
    "        self.update_L2 = lambda value: self.update_Li(value, 2)\n",
    "        self.update_L3 = lambda value: self.update_Li(value, 3)        \n",
    "        i=1\n",
    "        actor_name=\"L1_isosurface\"\n",
    "        self.L1_label, self.set_L1, self.QSliders[actor_name] = self.add_QSlider(\n",
    "                self.update_L1,\n",
    "                self.QSliders_toolbar,\n",
    "                actor_name,\n",
    "                scalars=self.fullmesh[f\"energy_L{i}\"],\n",
    "                min_val=0,\n",
    "                label_txt=f\"L_{i}\",\n",
    "            )\n",
    "        \n",
    "        i=2\n",
    "        actor_name=\"L2_isosurface\"\n",
    "        self.L2_label, self.set_L2, self.QSliders[actor_name] = self.add_QSlider(\n",
    "                self.update_L2,\n",
    "                self.QSliders_toolbar,\n",
    "                actor_name,\n",
    "                scalars=self.fullmesh[f\"energy_L{i}\"],\n",
    "                min_val=0,\n",
    "                label_txt=f\"L_{i}\",\n",
    "            )\n",
    "        i=3\n",
    "        actor_name=\"L3_isosurface\"        \n",
    "        self.L3_label, self.set_L3, self.QSliders[actor_name] = self.add_QSlider(\n",
    "                self.update_L3,\n",
    "                self.QSliders_toolbar,\n",
    "                actor_name,\n",
    "                scalars=self.fullmesh[f\"energy_L{i}\"],\n",
    "                label_txt=f\"L_{i}\",\n",
    "            )      \n",
    "        \n",
    "        \n",
    "        # initialize the actors\n",
    "        self.update_defects(0.3)\n",
    "        self.update_L1(np.average(self.fullmesh[\"energy_L1\"]))\n",
    "        self.update_L2(np.average(self.fullmesh[\"energy_L2\"]))\n",
    "        self.update_L3(np.average(self.fullmesh[\"energy_L3\"]))\n",
    "        for i in range(1,4):\n",
    "            self.renderer.actors[f\"L{i}_isosurface\"].SetVisibility(False)\n",
    "        \n",
    " \n",
    "        \n",
    "#         Li_QSliders = []\n",
    "#         for i in range(1,3):\n",
    "#             self.add_QSlider(\n",
    "#                 lambda value: self.update_Li(value, i),\n",
    "#                 self.QSliders_toolbar,\n",
    "#                 scalars=self.fullmesh[f\"energy_L{i}\"],\n",
    "#                 label_txt=f\"L_{i}\",\n",
    "#             )\n",
    "        \n",
    "#   \n",
    "#         self.ref_pt = [ self.button_coords(-1.5, x_offset=1)[i]/settings[\"window_size\"][i]\n",
    "#                        for i in range(2) ]  \n",
    "        self.add_mesh(self.fullmesh.outline(), color='black') # bounding box)\n",
    "        \n",
    "        \n",
    "        self.toggle_menu = self.main_menu.addMenu('Toggle')\n",
    "        for actor_name in self.renderer.actors:\n",
    "            self.toggle_menu.addAction(actor_name, \n",
    "                                  self.generic_menu_toggle(actor_name))\n",
    "\n",
    "#         for i in range(1,4):\n",
    "#             slider_y = 1. - 0.2*i\n",
    "#             self.generic_isosurface_slider(\n",
    "#                 lambda value: self.update_Li(value, i),\n",
    "#                 f\"energy_L{i}\",\n",
    "#                 [0.05, slider_y], [0.15, slider_y],\n",
    "#                 color=settings[f\"energy_L{i}_color\"],\n",
    "#                 title=f\"L{i}\"\n",
    "#             )\n",
    "#             self.renderer.actors[f\"L{i}_isosurface\"].SetVisibility(0)\n",
    "\n",
    "            \n",
    "#         self.defect_slider = self.generic_isosurface_slider(\n",
    "#             self.update_defects,\n",
    "#             \"order\",\n",
    "#             self.ref_pt, [self.ref_pt[0]+0.15, self.ref_pt[1]],\n",
    "#             init_value=0.3,\n",
    "#             color=self.settings[\"defect_color\"]\n",
    "#         )    \n",
    "        \n",
    "#         self.add_toggle_button(\"defects\", self.settings[\"defect_color\"], 0)\n",
    "#         self.add_toggle_button(\"boundaries\", self.settings[\"boundaries_color\"], 1)\n",
    "#         self.add_toggle_button(\"director\", self.settings[\"director_color\"], 2)\n",
    "#         self.add_toggle_button(\"slice_plane\", self.settings[\"slice_plane_color\"], 3)  \n",
    "#         self.add_toggle_button(_, self.settings[\"plane_widget_color\"], 4, func=self.plane_widget_toggle)      \n",
    "#         self.add_toggle_button(\"L1_isosurface\", self.settings[\"energy_L1_color\"], 5, value=False)\n",
    "#         self.add_toggle_button(\"L2_isosurface\", self.settings[\"energy_L2_color\"], 6, value=False)\n",
    "#         self.add_toggle_button(\"L3_isosurface\", self.settings[\"energy_L3_color\"], 7, value=False)\n",
    "\n",
    "\n",
    "\n",
    "    def Q33_from_Q5(self, Q5):\n",
    "        (Qxx, Qxy, Qxz, Qyy, Qyz) = Q5.T\n",
    "        Qmat = np.moveaxis(np.array([ \n",
    "                [Qxx, Qxy, Qxz],\n",
    "                [Qxy, Qyy, Qyz],\n",
    "                [Qxz, Qyz, -Qxx-Qyy]\n",
    "                ]), -1, 0)\n",
    "        return Qmat\n",
    "\n",
    "    def n_from_Q(self, Qmat):\n",
    "        \"\"\"Get director from 3x3-matrix Q-tensor data\"\"\"\n",
    "        evals, evecs = np.linalg.eigh(Qmat)    \n",
    "        return evecs[:,:,2]            \n",
    "\n",
    "    def set_settings(self, user_settings):\n",
    "        self.settings = {\n",
    "            \"boundaries_color\":\"green\",\n",
    "            \"director_color\":\"red\",\n",
    "            \"director_resolution\":0.025, # \"tolerance\" for density of director glyphs (lower means more rods)\n",
    "            \"default_defect_S\":0.3, # initialization order value for defect isosurfaces\n",
    "            \"defect_color\":(37/256,150/256,190/256),\n",
    "            \"checkbox_size\":50, # size of toggle boxes in pixels\n",
    "            \"checkbox_spacing\":10, # spacing between toggle boxes in pixels\n",
    "            \"window_size\":(1200,800), # window size in pixels\n",
    "            \"cylinder_resolution\":8, # angular resolution for each cylindrical rod; larger values look nicer but take longer to compute\n",
    "            \"slice_plane_color\":\"lightyellow\", # set to None to use slice_color_function instead    \n",
    "            \"slice_cmap\":\"cividis\", # color map for use with slice_color_function\n",
    "            \"slice_color_function\":(lambda slc: np.abs(slc[\"director\"][:,0])), # optionally color slice plane by some function of director or order\n",
    "            \"plane_widget_color\":\"orange\",\n",
    "            \"energy_L1_color\":\"yellow\",\n",
    "            \"energy_L2_color\":\"pink\",\n",
    "            \"energy_L3_color\":\"purple\",\n",
    "        }\n",
    "        for key, value in zip(user_settings.keys(), user_settings.values()):\n",
    "            self.settings[key] = value\n",
    "\n",
    "    def meshdata_from_file(self, dat):\n",
    "\n",
    "        # name the data columns:\n",
    "        self.coords = dat[:,:3]\n",
    "        self.Qdata = dat[:,3:8]\n",
    "        self.Q33 = self.Q33_from_Q5(self.Qdata) # 3x3 Q matrix\n",
    "        self.site_types = dat[:,8]\n",
    "        self.order = dat[:,9]\n",
    "\n",
    "        # grid for pyvista:\n",
    "        self.fullmesh = pv.UniformGrid((self.Lx,self.Ly,self.Lz)) \n",
    "        # Order (defects) data:\n",
    "        self.order[self.site_types>0] = np.max(self.order) # Don't plot defects inside objects\n",
    "        self.fullmesh[\"order\"] = self.order\n",
    "\n",
    "        # director data:\n",
    "        self.Qdata[self.site_types>0] = 0. # Don't bother calculating eigenvectors inside objects\n",
    "        self.fullmesh[\"director\"] = self.n_from_Q(self.Q33)\n",
    "\n",
    "        # boundaries:\n",
    "        self.fullmesh[\"nematic_sites\"] = 1*(self.site_types<=0)        \n",
    "\n",
    "        \n",
    "        self.Q33_xyz = self.Q33.reshape((self.Lx,self.Ly,self.Lz,3,3))\n",
    "        self.diQjk = np.moveaxis(\n",
    "            np.array(\n",
    "                [np.roll(self.Q33_xyz,-1, axis=i) \n",
    "                 - np.roll(self.Q33_xyz,1, axis=i) \n",
    "                 for i in range(3)]\n",
    "            ),\n",
    "            0, -3\n",
    "        )\n",
    "        \n",
    "        # energy:\n",
    "        self.fullmesh[\"energy_L1\"] = np.sum(\n",
    "            self.diQjk**2, axis=(-1,-2,-3)).flatten()\n",
    "        self.fullmesh[\"energy_L2\"] = np.sum(\n",
    "            (np.einsum(\"...iij->...j\", self.diQjk))**2, \n",
    "            axis=-1\n",
    "        ).flatten() # djQij dkQik = djQji dkQki = sum_i[(djQji)^2]\n",
    "        self.fullmesh[\"energy_L3\"] = np.einsum(\n",
    "            \"...ij,...ikl,...jkl\", self.Q33_xyz, self.diQjk, self.diQjk).flatten()\n",
    "        self.fullmesh[\"energy_L24\"] = np.einsum(\n",
    "            \"...ijk,...kij\", self.diQjk, self.diQjk).flatten() - self.fullmesh[\"energy_L2\"] # diQjk dkQij - diQij dkQjk \n",
    "        for i in [1,2,3,24]:\n",
    "            self.fullmesh[f\"energy_L{i}\"] *= 1*(self.site_types==0)        \n",
    "            \n",
    "                \n",
    "    def director_slice_func(self, normal, origin):\n",
    "        \"\"\"make glyph plot and transparent plane for director field slice\"\"\"\n",
    "        slc = self.fullmesh.slice(normal=normal, origin=origin)\n",
    "        cylinders = slc.glyph(orient=\"director\", scale=\"nematic_sites\",\n",
    "            factor=self.Lx*self.settings[\"director_resolution\"],\n",
    "            geom=pv.Cylinder(\n",
    "                radius=0.2, height=1, \n",
    "                resolution=self.settings[\"cylinder_resolution\"]\n",
    "            ),  \n",
    "            tolerance=self.settings[\"director_resolution\"], \n",
    "            progress_bar=True\n",
    "        )\n",
    "        self.renderer.actors[\"director\"] = self.add_mesh(\n",
    "            cylinders, \n",
    "            color=self.settings[\"director_color\"], \n",
    "#             specular=1, ambient=0.35, \n",
    "            pbr=True, metallic=0.5, roughness=0.25, diffuse=1,\n",
    "            name=\"director\" # \"name\" == actor's name so old actor is replaced\n",
    "        )\n",
    "        self.renderer.actors[\"slice_plane\"] = self.add_mesh(\n",
    "            slc, opacity=0.01, \n",
    "            ambient=1, diffuse=0, specular=0, # glows, doesn't reflect\n",
    "            color=self.settings[\"slice_plane_color\"], \n",
    "            scalars=(self.settings[\"slice_color_function\"](slc) \n",
    "                if self.settings[\"slice_plane_color\"] is None \n",
    "                else None # use slice_color_function only if slice_plane_color==None\n",
    "            ),\n",
    "            cmap=self.settings[\"slice_cmap\"],\n",
    "            name=\"slice_plane\" # \"name\" == actor's name so old actor is replaced\n",
    "        )\n",
    "        \n",
    "    def generic_slider_callback(self, actor_name, scalars, contour_value, \n",
    "        color=None, mesh_color_scalars=None, clim=None, cmap=None):\n",
    "        \"\"\"generic callback function for slider controlling isosurfaces\"\"\"\n",
    "        kwargs={\n",
    "            \"show_scalar_bar\":False,\n",
    "            \"specular\":1, \"specular_power\":200,\n",
    "            \"ambient\":0.5, \"diffuse\":1,\n",
    "            \"smooth_shading\":True,\n",
    "            \"name\":actor_name,\n",
    "            \"pbr\":True, \n",
    "            \"metallic\":0,\n",
    "            \"roughness\":0.25,\n",
    "            \"diffuse\":1,            \n",
    "        }\n",
    "        if mesh_color_scalars is not None:\n",
    "            kwargs[\"scalars\"] = mesh_color_scalars\n",
    "            if clim is not None:\n",
    "                kwargs[\"clim\"] = clim\n",
    "            if cmap is not None:\n",
    "                kwargs[\"cmap\"] = cmap            \n",
    "        elif color is not None:\n",
    "            kwargs[\"color\"] = color\n",
    "        \n",
    "        try:\n",
    "            self.renderer.actors[actor_name] = self.add_mesh(\n",
    "                self.fullmesh.contour(\n",
    "                    [contour_value], scalars=scalars\n",
    "                ), **kwargs            \n",
    "            ) \n",
    "        except ValueError:\n",
    "            pass\n",
    "        \n",
    "     \n",
    "    def update_defects(self, dthresh):\n",
    "        return self.generic_slider_callback(\n",
    "            \"defects\", \"order\", dthresh, color=None, mesh_color_scalars=\"energy_L24\", clim=[-1,1], cmap=\"jet\"\n",
    "        )\n",
    "    \n",
    "    def update_Li(self, Li_value, i, vis=True):\n",
    "        return self.generic_slider_callback(\n",
    "            f\"L{i}_isosurface\", f\"energy_L{i}\", Li_value, self.settings[f\"energy_L{i}_color\"]\n",
    "        )\n",
    "    \n",
    "\n",
    "    \n",
    "    ## the toggle buttons \n",
    "    \n",
    "#     def generic_toggle_vis(self, actor_name, flag):\n",
    "#         \"\"\"utility for general toggle button action\"\"\"\n",
    "#         self.renderer.actors[actor_name].SetVisibility(flag)\n",
    "        \n",
    "    def plane_widget_toggle(self, _, flag):\n",
    "        if flag:\n",
    "            self.add_plane_widget(self.director_slice_func, \n",
    "                factor=1.1, \n",
    "                color=settings[\"plane_widget_color\"],\n",
    "                tubing=False\n",
    "            )    \n",
    "        else:\n",
    "            self.clear_plane_widgets()            \n",
    "    \n",
    "#   \n",
    "#     def button_coords(self, button_number, x_offset=0):        \n",
    "#         \"\"\"utility for placement of several buttons\"\"\"\n",
    "#         self.button_reference_x = settings[\"checkbox_spacing\"] #settings[\"window_size\"][0] - 4*settings[\"checkbox_spacing\"] - settings[\"checkbox_size\"]\n",
    "#         self.button_reference_y = settings[\"window_size\"][1] - 3*settings[\"checkbox_size\"] # settings[\"checkbox_spacing\"]        \n",
    "#         self.button_repeat_length = settings[\"checkbox_size\"]+settings[\"checkbox_spacing\"]        \n",
    "#         return [self.button_reference_x + x_offset*self.button_repeat_length, \n",
    "#                 self.button_reference_y - button_number*self.button_repeat_length]\n",
    "    \n",
    "#     def add_toggle_button(self, actor, button_color, button_index, func=generic_toggle_vis, value=True):\n",
    "#         self.add_checkbox_button_widget(\n",
    "#             lambda flag: func(actor, flag), \n",
    "#             value=value, \n",
    "#             color_on=button_color, background_color=button_color,\n",
    "#             color_off=\"white\",\n",
    "#             position=self.button_coords(button_index)\n",
    "#         )\n",
    "        \n",
    "    \n",
    "    ## the sliders\n",
    "   \n",
    "    def generic_isosurface_slider(self, callback_function, scalars, pointa, pointb, init_value=None, title=None, color=None):\n",
    "        min_val = 1.01*np.min(self.fullmesh[scalars])\n",
    "        max_val = 0.99*np.max(self.fullmesh[scalars])\n",
    "        if min_val > max_val:\n",
    "            tmp = min_val\n",
    "            min_val = max_val\n",
    "            max_val = tmp\n",
    "        if init_value is None:\n",
    "            init_value = 0.5*(min_val+max_val)      \n",
    "        if color is not None:\n",
    "            pv.global_theme.slider_styles.modern.slider_color = color\n",
    "        self.add_slider_widget(\n",
    "            callback_function,\n",
    "            [min_val, max_val], # value range\n",
    "            value=init_value,\n",
    "            color=\"black\", # text color\n",
    "            fmt=\"%0.3f\", # text format\n",
    "            pointa=pointa,\n",
    "            pointb=pointb,\n",
    "            style=\"modern\",\n",
    "            title=title\n",
    "        )\n",
    "        \n",
    "    def add_QSlider(self, update_method, toolbar, actor_name, num_divs=100, \n",
    "                    init_val=30, min_val = None, max_val = None, scalars=None, label_txt=None):\n",
    "        slider = qw.QSlider()\n",
    "        slider.setMinimum(0)\n",
    "        slider.setMaximum(num_divs)\n",
    "        slider.setValue(init_val)\n",
    "        if max_val is None and scalars is not None:\n",
    "            max_val = np.max(scalars)\n",
    "        if min_val is None and scalars is not None:\n",
    "            min_val = np.min(scalars)\n",
    "        if label_txt is not None:\n",
    "            label = qw.QLabel(f\"___{label_txt}___\\n\")\n",
    "            toolbar.addWidget(label)\n",
    "        else:\n",
    "            label = None\n",
    "        def slider_formula(slider_value):\n",
    "            return min_val + (max_val-min_val)*slider_value/100            \n",
    "        def external_update(float_value):\n",
    "            slider_value = int( 100*(float_value-min_val)/(max_val-min_val))\n",
    "            slider.SetValue(slider_value)\n",
    "        def valuechange_method(slider_value):                        \n",
    "            float_value = slider_formula(slider_value)\n",
    "            if actor_name in self.visibilities.keys():\n",
    "                visibility = self.visibilities[actor_name]\n",
    "            else:\n",
    "                visibility = self.renderer.actors[actor_name].GetVisibility()            \n",
    "            update_method(float_value)\n",
    "            self.renderer.actors[actor_name].SetVisibility(visibility)\n",
    "            if label is not None:\n",
    "                label.setText(f\"___{label_txt}___\\n{float_value:.3f}\")\n",
    "        slider.valueChanged.connect(valuechange_method)            \n",
    "        toolbar.addWidget(slider)\n",
    "        return label, external_update, slider\n",
    "\n",
    "    \n",
    "\n",
    "\n",
    "    \n",
    "\n",
    "\n",
    "    # Add a drop down menu\n",
    "\n",
    "    def generic_menu_toggle(self, actor_name):\n",
    "        actor=self.renderer.actors[actor_name]    \n",
    "        def return_function():\n",
    "            if actor_name in self.visibilities.keys():\n",
    "                self.visibilities[actor_name] = 1 - self.visibilities[actor_name]\n",
    "                actor.SetVisibility(self.visibilities[actor_name])\n",
    "            else:                \n",
    "                is_visible = actor.GetVisibility()\n",
    "                actor.SetVisibility(1-is_visible)\n",
    "            if actor_name in self.QSliders.keys():\n",
    "                slider = self.QSliders[actor_name]\n",
    "                slider.setValue(slider.value()+1)\n",
    "                slider.setValue(slider.value()-1)\n",
    "        return return_function\n",
    "\n"
   ]
  },
  {
   "cell_type": "code",
   "execution_count": 110,
   "id": "c673cbca-31d7-4977-9e96-c317a1a62443",
   "metadata": {
    "extensions": {
     "jupyter_dashboards": {
      "activeView": "grid_default",
      "views": {
       "grid_default": {
        "col": null,
        "height": 2,
        "hidden": true,
        "row": null,
        "width": 2
       }
      }
     }
    },
    "tags": []
   },
   "outputs": [
    {
     "name": "stderr",
     "output_type": "stream",
     "text": [
      "Cleaning: 100%|████████████████████████████████████████████████████[00:03<00:00]\n",
      "Computing Glyphs: 100%|████████████████████████████████████████████[00:00<00:00]\n"
     ]
    }
   ],
   "source": [
    "pv.close_all()\n",
    "qp = Qmin_plot(dat, settings)"
   ]
  },
  {
   "cell_type": "code",
   "execution_count": 107,
   "id": "e1f70b45-35af-4323-b0dc-4bf5e4e4799d",
   "metadata": {
    "extensions": {
     "jupyter_dashboards": {
      "activeView": "grid_default",
      "views": {
       "grid_default": {
        "col": null,
        "height": 2,
        "hidden": true,
        "row": null,
        "width": 2
       }
      }
     }
    }
   },
   "outputs": [
    {
     "data": {
      "text/plain": [
       "30"
      ]
     },
     "execution_count": 107,
     "metadata": {},
     "output_type": "execute_result"
    }
   ],
   "source": [
    "qp.QSliders[\"defects\"].value()"
   ]
  },
  {
   "cell_type": "code",
   "execution_count": 108,
   "id": "8568d337-a981-4eb5-860c-efa3469a2687",
   "metadata": {
    "extensions": {
     "jupyter_dashboards": {
      "activeView": "grid_default",
      "views": {
       "grid_default": {
        "col": null,
        "height": 2,
        "hidden": true,
        "row": null,
        "width": 2
       }
      }
     }
    }
   },
   "outputs": [
    {
     "ename": "AttributeError",
     "evalue": "Qmin_plot has no attribute named defects_QSlider",
     "output_type": "error",
     "traceback": [
      "\u001b[0;31m---------------------------------------------------------------------------\u001b[0m",
      "\u001b[0;31mAttributeError\u001b[0m                            Traceback (most recent call last)",
      "\u001b[0;32m/var/folders/pt/1x9c1p2s02ggqr8yh1p00ln40000gn/T/ipykernel_1791/3756165279.py\u001b[0m in \u001b[0;36m<module>\u001b[0;34m\u001b[0m\n\u001b[0;32m----> 1\u001b[0;31m \u001b[0mqp\u001b[0m\u001b[0;34m.\u001b[0m\u001b[0mdefects_QSlider\u001b[0m\u001b[0;34m.\u001b[0m\u001b[0msetValue\u001b[0m\u001b[0;34m(\u001b[0m\u001b[0;36m100\u001b[0m\u001b[0;34m)\u001b[0m\u001b[0;34m\u001b[0m\u001b[0;34m\u001b[0m\u001b[0m\n\u001b[0m",
      "\u001b[0;32m/Library/Frameworks/Python.framework/Versions/3.9/lib/python3.9/site-packages/vtkmodules/qt/QVTKRenderWindowInteractor.py\u001b[0m in \u001b[0;36m__getattr__\u001b[0;34m(self, attr)\u001b[0m\n\u001b[1;32m    333\u001b[0m             \u001b[0;32mreturn\u001b[0m \u001b[0mgetattr\u001b[0m\u001b[0;34m(\u001b[0m\u001b[0mself\u001b[0m\u001b[0;34m.\u001b[0m\u001b[0m_Iren\u001b[0m\u001b[0;34m,\u001b[0m \u001b[0mattr\u001b[0m\u001b[0;34m)\u001b[0m\u001b[0;34m\u001b[0m\u001b[0;34m\u001b[0m\u001b[0m\n\u001b[1;32m    334\u001b[0m         \u001b[0;32melse\u001b[0m\u001b[0;34m:\u001b[0m\u001b[0;34m\u001b[0m\u001b[0;34m\u001b[0m\u001b[0m\n\u001b[0;32m--> 335\u001b[0;31m             raise AttributeError(self.__class__.__name__ +\n\u001b[0m\u001b[1;32m    336\u001b[0m                   \" has no attribute named \" + attr)\n\u001b[1;32m    337\u001b[0m \u001b[0;34m\u001b[0m\u001b[0m\n",
      "\u001b[0;31mAttributeError\u001b[0m: Qmin_plot has no attribute named defects_QSlider"
     ]
    }
   ],
   "source": [
    "qp.defects_QSlider.setValue(100)"
   ]
  },
  {
   "cell_type": "code",
   "execution_count": 63,
   "id": "4e5e181c-29d4-464a-a85b-a06d1fc96e26",
   "metadata": {
    "extensions": {
     "jupyter_dashboards": {
      "activeView": "grid_default",
      "views": {
       "grid_default": {
        "col": null,
        "height": 2,
        "hidden": true,
        "row": null,
        "width": 2
       }
      }
     }
    }
   },
   "outputs": [],
   "source": [
    "(qp.visibilities[\"defects\"], qp.renderer.actors[\"defects\"].GetVisibility())"
   ]
  },
  {
   "cell_type": "code",
   "execution_count": 20,
   "id": "79c4182a-6080-4e72-a753-7409c1f24526",
   "metadata": {
    "extensions": {
     "jupyter_dashboards": {
      "activeView": "grid_default",
      "views": {
       "grid_default": {
        "col": null,
        "height": 2,
        "hidden": true,
        "row": null,
        "width": 2
       }
      }
     }
    }
   },
   "outputs": [],
   "source": [
    "# Add a toolbar\n",
    "from PyQt5 import QtWidgets as qw\n",
    "\n",
    "def add_action(toolbar, key, method, main_window):\n",
    "    action = qw.QAction(key, main_window)\n",
    "    action.triggered.connect(method)\n",
    "    toolbar.addAction(action)\n",
    "    return\n",
    "\n",
    "user_toolbar = qp.app_window.addToolBar('User Toolbar')\n",
    "add_action(user_toolbar, 'Line Widget', qp.add_line_widget, qp.app_window)\n",
    "\n",
    "# def valuechange(slider)\n",
    "    \n",
    "# def add_toolbar_slider(toolbar, key, method, main_window):\n",
    "#     slider = qw.QSlider()\n",
    "#     slider.valueChanged.connect(self.valuechange)\n",
    "#     toolbar.addAction(slider)\n",
    "    \n",
    "\n",
    "# self.sl = QSlider(Qt.Horizontal)\n",
    "# self.sl.setMinimum(10)\n",
    "# self.sl.setMaximum(30)\n",
    "# self.sl.setValue(20)\n",
    "# self.sl.setTickPosition(QSlider.TicksBelow)\n",
    "# self.sl.setTickInterval(5)\n",
    "\n",
    "# layout.addWidget(self.sl)\n",
    "# self.sl.valueChanged.connect(self.valuechange)\n",
    "# self.setLayout(layout)\n",
    "# self.setWindowTitle(\"SpinBox demo\")\n",
    "\n",
    "# def valuechange(self):\n",
    "# size = self.sl.value()\n",
    "# self.l1.setFont(QFont(\"Arial\",size))"
   ]
  },
  {
   "cell_type": "code",
   "execution_count": 76,
   "id": "adf3cfd5-41fa-4210-9c4f-b7cb32d32763",
   "metadata": {
    "extensions": {
     "jupyter_dashboards": {
      "activeView": "grid_default",
      "views": {
       "grid_default": {
        "col": null,
        "height": 2,
        "hidden": true,
        "row": null,
        "width": 2
       }
      }
     }
    }
   },
   "outputs": [],
   "source": [
    "s=qw.QSlider()"
   ]
  },
  {
   "cell_type": "code",
   "execution_count": null,
   "id": "5def6ddd-d661-4e16-b033-33a5f12be8e0",
   "metadata": {
    "extensions": {
     "jupyter_dashboards": {
      "activeView": "grid_default",
      "views": {
       "grid_default": {
        "col": null,
        "height": 2,
        "hidden": true,
        "row": null,
        "width": 2
       }
      }
     }
    }
   },
   "outputs": [],
   "source": [
    "s.set"
   ]
  },
  {
   "cell_type": "code",
   "execution_count": 4,
   "id": "93f64aec-901b-4d56-a071-91032ef48c3b",
   "metadata": {
    "extensions": {
     "jupyter_dashboards": {
      "activeView": "grid_default",
      "views": {
       "grid_default": {
        "col": null,
        "height": 2,
        "hidden": true,
        "row": null,
        "width": 2
       }
      }
     }
    }
   },
   "outputs": [],
   "source": [
    "\"\"\"Parse the data\"\"\"\n",
    "\n",
    "def Q33_from_Q5(Q5):\n",
    "    (Qxx, Qxy, Qxz, Qyy, Qyz) = Q5.T\n",
    "    Qmat = np.moveaxis(np.array([ \n",
    "            [Qxx, Qxy, Qxz],\n",
    "            [Qxy, Qyy, Qyz],\n",
    "            [Qxz, Qyz, -Qxx-Qyy]\n",
    "            ]), -1, 0)\n",
    "    return Qmat\n",
    "\n",
    "def n_from_Q(Qmat):\n",
    "    \"\"\"Get director from 3x3-matrix Q-tensor data\"\"\"\n",
    "    evals, evecs = np.linalg.eigh(Qmat)    \n",
    "    return evecs[:,:,2]    \n",
    "        \n",
    "# name the data columns:\n",
    "coords = dat[:,:3]\n",
    "Qdata = dat[:,3:8]\n",
    "Q33 = Q33_from_Q5(Qdata) # 3x3 Q matrix\n",
    "site_types = dat[:,8]\n",
    "order = dat[:,9]\n",
    "\n",
    "# grid for pyvista:\n",
    "Lx, Ly, Lz = [ int(item+1) for item in dat[-1,:3] ]\n",
    "fullmesh = pv.UniformGrid((Lx,Ly,Lz)) \n",
    "# Order (defects) data:\n",
    "order[site_types>0] = np.max(order) # Don't plot defects inside objects\n",
    "fullmesh[\"order\"] = order\n",
    "\n",
    "# director data:\n",
    "Qdata[site_types>0] = 0. # Don't bother calculating eigenvectors inside objects\n",
    "fullmesh[\"director\"] = n_from_Q(Q33)\n",
    "\n",
    "# boundaries:\n",
    "fullmesh[\"nematic_sites\"] = 1*(site_types<=0)\n",
    "\n"
   ]
  },
  {
   "cell_type": "code",
   "execution_count": 101,
   "id": "278dc9e0-4cad-4174-a37d-f358d3ec664a",
   "metadata": {
    "extensions": {
     "jupyter_dashboards": {
      "activeView": "grid_default",
      "views": {
       "grid_default": {
        "col": null,
        "height": 2,
        "hidden": true,
        "row": null,
        "width": 2
       }
      }
     }
    }
   },
   "outputs": [],
   "source": []
  },
  {
   "cell_type": "code",
   "execution_count": 98,
   "id": "98cc0493-6c0a-4920-85c1-3bfaaa5a1b59",
   "metadata": {
    "extensions": {
     "jupyter_dashboards": {
      "activeView": "grid_default",
      "views": {
       "grid_default": {
        "col": null,
        "height": 2,
        "hidden": true,
        "row": null,
        "width": 2
       }
      }
     }
    }
   },
   "outputs": [],
   "source": [
    "qp.show()"
   ]
  },
  {
   "cell_type": "code",
   "execution_count": 5,
   "id": "0e6c20e6-6290-4aba-aa75-d10704586a28",
   "metadata": {
    "extensions": {
     "jupyter_dashboards": {
      "activeView": "grid_default",
      "views": {
       "grid_default": {
        "col": null,
        "height": 2,
        "hidden": true,
        "row": null,
        "width": 2
       }
      }
     }
    }
   },
   "outputs": [],
   "source": [
    "Q33_xyz = Q33.reshape((Lx,Ly,Lz,3,3))\n",
    "diQjk = np.moveaxis(\n",
    "    np.array(\n",
    "        [np.roll(Q33_xyz,-1, axis=i) - np.roll(Q33_xyz,1, axis=i) for i in range(3)]\n",
    "    ),\n",
    "    0, -3\n",
    ")\n",
    "\n",
    "# energy:\n",
    "fullmesh[\"energy_L1\"] = np.sum(diQjk**2, axis=(-1,-2,-3)).flatten()\n",
    "fullmesh[\"energy_L2\"] = np.sum((np.einsum(\"...iij->...j\", diQjk))**2, axis=-1).flatten() # djQij dkQik = djQji dkQki = sum_i[(djQji)^2]\n",
    "fullmesh[\"energy_L3\"] = np.einsum(\"...ij,...ikl,...jkl\", Q33_xyz, diQjk, diQjk).flatten()\n",
    "fullmesh[\"energy_L24\"] = np.einsum(\"...ijk,...kij\", diQjk, diQjk).flatten() - fullmesh[\"energy_L2\"] # diQjk dkQij - diQij dkQjk \n",
    "for i in [1,2,3,24]:\n",
    "    fullmesh[f\"energy_L{i}\"] *= 1*(site_types==0)"
   ]
  },
  {
   "cell_type": "code",
   "execution_count": 6,
   "id": "2036c86f",
   "metadata": {
    "extensions": {
     "jupyter_dashboards": {
      "activeView": "grid_default",
      "views": {
       "grid_default": {
        "col": null,
        "height": 2,
        "hidden": true,
        "row": null,
        "width": 2
       }
      }
     }
    }
   },
   "outputs": [],
   "source": [
    "\"\"\"Visualization routine\"\"\"\n",
    "\n",
    "## global options\n",
    "pv.global_theme.title = \"open-Qmin visualization with pyvistaqt\"\n",
    "\n",
    "def update_Qmin_plot(pl):\n",
    "    \"\"\"Create/update the visualization with pyvista\"\"\"\n",
    "\n",
    "    pl.enable_eye_dome_lighting()    \n",
    "    pl.renderer.add_axes(interactive=True, color='black') # xyz axes arrows\n",
    "    pl.renderer.set_background(\"white\")\n",
    "\n",
    "    def director_slice_func(normal, origin):\n",
    "        \"\"\"make glyph plot and transparent plane for director field slice\"\"\"\n",
    "        slc = fullmesh.slice(normal=normal, origin=origin)\n",
    "        cylinders = slc.glyph(orient=\"director\", scale=\"nematic_sites\",\n",
    "            factor=Lx*settings[\"director_resolution\"],\n",
    "            geom=pv.Cylinder(\n",
    "                radius=0.2, height=1, \n",
    "                resolution=settings[\"cylinder_resolution\"]\n",
    "            ),  \n",
    "            tolerance=settings[\"director_resolution\"], \n",
    "            progress_bar=True\n",
    "        )\n",
    "        pl.renderer.actors[\"director\"] = pl.add_mesh(\n",
    "            cylinders, \n",
    "            color=settings[\"director_color\"], \n",
    "#             specular=1, ambient=0.35, \n",
    "            pbr=True, metallic=0.5, roughness=0.25, diffuse=1,\n",
    "            name=\"director\" # \"name\" == actor's name so old actor is replaced\n",
    "        )\n",
    "        pl.renderer.actors[\"slice_plane\"] = pl.add_mesh(\n",
    "            slc, opacity=0.01, \n",
    "            ambient=1, diffuse=0, specular=0, # glows, doesn't reflect\n",
    "            color=settings[\"slice_plane_color\"], \n",
    "            scalars=(settings[\"slice_color_function\"](slc) \n",
    "                if settings[\"slice_plane_color\"] is None \n",
    "                else None # use slice_color_function only if slice_plane_color==None\n",
    "            ),\n",
    "            cmap=settings[\"slice_cmap\"],\n",
    "            name=\"slice_plane\" # \"name\" == actor's name so old actor is replaced\n",
    "        )\n",
    "        \n",
    "    def generic_slider_callback(actor, scalars, contour_value, color=None, mesh_color_scalars=None, clim=None, cmap=None):\n",
    "        \"\"\"generic callback function for slider controlling isosurfaces\"\"\"\n",
    "        the_contour = fullmesh.contour(\n",
    "            [contour_value], scalars=scalars\n",
    "        )\n",
    "        kwargs={\n",
    "            \"show_scalar_bar\":False,\n",
    "            \"specular\":1, \"specular_power\":200,\n",
    "            \"ambient\":0.5, \"diffuse\":1,\n",
    "            \"smooth_shading\":True,\n",
    "            \"name\":actor,\n",
    "            \"pbr\":True, \n",
    "            \"metallic\":0,\n",
    "            \"roughness\":0.25,\n",
    "            \"diffuse\":1,\n",
    "        }\n",
    "        if mesh_color_scalars is not None:\n",
    "            kwargs[\"scalars\"] = mesh_color_scalars\n",
    "            if clim is not None:\n",
    "                kwargs[\"clim\"] = clim\n",
    "            if cmap is not None:\n",
    "                kwargs[\"cmap\"] = cmap            \n",
    "        elif color is not None:\n",
    "            kwargs[\"color\"] = color\n",
    "                \n",
    "        pl.renderer.actors[actor] = pl.add_mesh(\n",
    "            the_contour, \n",
    "            **kwargs\n",
    "        )\n",
    "    \n",
    "    def update_defects(dthresh):\n",
    "        return generic_slider_callback(\n",
    "            \"defects\", \"order\", dthresh, color=None, mesh_color_scalars=\"energy_L24\", clim=[-1,1], cmap=\"jet\"\n",
    "        )\n",
    "    \n",
    "    def update_Li(Li_value, i):\n",
    "        return generic_slider_callback(\n",
    "            f\"L{i}_isosurface\", f\"energy_L{i}\", Li_value, settings[f\"energy_L{i}_color\"]\n",
    "        )\n",
    "    \n",
    "\n",
    "    pl.add_mesh(\n",
    "        fullmesh.contour([0.5], scalars=\"nematic_sites\"), \n",
    "        show_scalar_bar=False, \n",
    "        color=settings[\"boundaries_color\"],\n",
    "        name=\"boundaries\",\n",
    "        ambient=1,\n",
    "#         specular=1, ambient=1, # lighting\n",
    "#         smooth_shading=True, # very smooth! \n",
    "        pbr=True, metallic=0.5, roughness=0.25, diffuse=1\n",
    "        )    \n",
    "    \n",
    "    ## the toggle buttons \n",
    "    \n",
    "    def generic_toggle_vis(actor_name, flag):\n",
    "        \"\"\"utility for general toggle button action\"\"\"\n",
    "        pl.renderer.actors[actor_name].SetVisibility(flag)\n",
    "        \n",
    "    def plane_widget_toggle(_, flag):\n",
    "        if flag:\n",
    "            pl.add_plane_widget(director_slice_func, \n",
    "                factor=1.1, \n",
    "                color=settings[\"plane_widget_color\"],\n",
    "                tubing=False\n",
    "            )    \n",
    "        else:\n",
    "            pl.clear_plane_widgets()            \n",
    "    plane_widget_toggle(_,True)   \n",
    "    \n",
    "    button_reference_x = settings[\"checkbox_spacing\"] #settings[\"window_size\"][0] - 4*settings[\"checkbox_spacing\"] - settings[\"checkbox_size\"]\n",
    "    button_reference_y = settings[\"window_size\"][1] - 3*settings[\"checkbox_size\"] # settings[\"checkbox_spacing\"]\n",
    "    def button_coords(button_number, x_offset=0):\n",
    "        \"\"\"utility for placement of several buttons\"\"\"\n",
    "        button_repeat_length = settings[\"checkbox_size\"]+settings[\"checkbox_spacing\"]        \n",
    "        return [button_reference_x + x_offset*button_repeat_length, \n",
    "                button_reference_y - button_number*button_repeat_length]\n",
    "    \n",
    "    def add_toggle_button(actor, button_color, button_index, func=generic_toggle_vis, value=True):\n",
    "        pl.add_checkbox_button_widget(\n",
    "            lambda flag: func(actor, flag), \n",
    "            value=value, \n",
    "            color_on=button_color, background_color=button_color,\n",
    "            color_off=\"white\",\n",
    "            position=button_coords(button_index)\n",
    "        )\n",
    "        \n",
    "    add_toggle_button(\"defects\", settings[\"defect_color\"], 0)\n",
    "    add_toggle_button(\"boundaries\", settings[\"boundaries_color\"], 1)\n",
    "    add_toggle_button(\"director\", settings[\"director_color\"], 2)\n",
    "    add_toggle_button(\"slice_plane\", settings[\"slice_plane_color\"], 3)  \n",
    "    add_toggle_button(_, settings[\"plane_widget_color\"], 4, func=plane_widget_toggle)      \n",
    "    add_toggle_button(\"L1_isosurface\", settings[\"energy_L1_color\"], 5, value=False)\n",
    "    add_toggle_button(\"L2_isosurface\", settings[\"energy_L2_color\"], 6, value=False)\n",
    "    add_toggle_button(\"L3_isosurface\", settings[\"energy_L3_color\"], 7, value=False)\n",
    "    \n",
    "    ## the sliders\n",
    "   \n",
    "    def generic_isosurface_slider(callback_function, scalars, pointa, pointb, init_value=None, title=None, color=None):\n",
    "        min_val = 1.01*np.min(fullmesh[scalars])\n",
    "        max_val = 0.99*np.max(fullmesh[scalars])\n",
    "        if min_val > max_val:\n",
    "            tmp = min_val\n",
    "            min_val = max_val\n",
    "            max_val = tmp\n",
    "        if init_value is None:\n",
    "            init_value = 0.5*(min_val+max_val)      \n",
    "        if color is not None:\n",
    "            pv.global_theme.slider_styles.modern.slider_color = color\n",
    "        pl.add_slider_widget(\n",
    "            callback_function,\n",
    "            [min_val, max_val], # value range\n",
    "            value=init_value,\n",
    "            color=\"black\", # text color\n",
    "            fmt=\"%0.3f\", # text format\n",
    "            pointa=pointa,\n",
    "            pointb=pointb,\n",
    "            style=\"modern\",\n",
    "            title=title\n",
    "        )\n",
    "\n",
    "    \n",
    "    ref_pt = [ button_coords(-1.5, x_offset=1)[i]/settings[\"window_size\"][i] for i in range(2) ] \n",
    "    \n",
    "    defect_slider = generic_isosurface_slider(\n",
    "        update_defects,\n",
    "        \"order\",\n",
    "        ref_pt, [ref_pt[0]+0.15, ref_pt[1]],\n",
    "        init_value=0.3,\n",
    "        color=settings[\"defect_color\"]\n",
    "    )\n",
    "    \n",
    "    for i in range(1,4):\n",
    "        slider_y = 1. - 0.2*i\n",
    "        generic_isosurface_slider(\n",
    "            lambda value: update_Li(value, i),\n",
    "            f\"energy_L{i}\",\n",
    "            [0.05, slider_y], [0.15, slider_y],\n",
    "            color=settings[f\"energy_L{i}_color\"],\n",
    "            title=f\"L{i}\"\n",
    "        )\n",
    "        self.renderer.actors[f\"L{i}_isosurface\"].SetVisibility(0)\n",
    "    fullmesh.set_active_scalars=\"order\"\n",
    "    \n",
    "    \n",
    "    # Add a drop down menu\n",
    "\n",
    "    def generic_menu_toggle(actor_name):\n",
    "        actor=Qmin_plot.renderer.actors[actor_name]    \n",
    "        def return_function():\n",
    "            is_visible = actor.GetVisibility()\n",
    "            actor.SetVisibility(1-is_visible)\n",
    "        return return_function\n",
    "\n",
    "\n",
    "    toggle_menu = Qmin_plot.main_menu.addMenu('Toggle')\n",
    "    for actor_name in Qmin_plot.renderer.actors:\n",
    "        toggle_menu.addAction(actor_name, \n",
    "                              generic_menu_toggle(actor_name))\n",
    "\n",
    "    return pl\n"
   ]
  },
  {
   "cell_type": "code",
   "execution_count": 7,
   "id": "1e9d67b2-2435-4867-b9dd-4894b736609b",
   "metadata": {
    "extensions": {
     "jupyter_dashboards": {
      "activeView": "grid_default",
      "views": {
       "grid_default": {
        "col": null,
        "height": 2,
        "hidden": true,
        "row": null,
        "width": 2
       }
      }
     }
    }
   },
   "outputs": [],
   "source": [
    "## create and configure the plotting window\n",
    "\n",
    "pv.close_all()\n",
    "\n",
    "Qmin_plot = pvqt.BackgroundPlotter(\n",
    "    window_size=settings[\"window_size\"], \n",
    "    #lighting='three lights'\n",
    ")\n",
    "Qmin_plot.add_mesh(fullmesh.outline(), color='black') # bounding box\n",
    "\n",
    "update_Qmin_plot(Qmin_plot)"
   ]
  },
  {
   "cell_type": "code",
   "execution_count": 101,
   "id": "e7bd0749-1049-42ae-806b-00763ccca915",
   "metadata": {
    "extensions": {
     "jupyter_dashboards": {
      "activeView": "grid_default",
      "views": {
       "grid_default": {
        "col": null,
        "height": 2,
        "hidden": true,
        "row": null,
        "width": 2
       }
      }
     }
    }
   },
   "outputs": [],
   "source": [
    "qp.fullmesh[\"Q33\"]=(qp.Q33)\n",
    "qp.add_mesh(qp.fullmesh[\"Q33\"])"
   ]
  },
  {
   "cell_type": "code",
   "execution_count": 15,
   "id": "5b4d475b-629c-489e-bc40-fc9a37343d25",
   "metadata": {
    "extensions": {
     "jupyter_dashboards": {
      "activeView": "grid_default",
      "views": {
       "grid_default": {
        "col": null,
        "height": 2,
        "hidden": true,
        "row": null,
        "width": 2
       }
      }
     }
    }
   },
   "outputs": [],
   "source": [
    "Qmin_plot.editor.children()[2]"
   ]
  },
  {
   "cell_type": "code",
   "execution_count": 72,
   "id": "81f48d1d-7227-477e-9ec9-7540f9528517",
   "metadata": {
    "extensions": {
     "jupyter_dashboards": {
      "activeView": "grid_default",
      "views": {
       "grid_default": {
        "col": null,
        "height": 2,
        "hidden": true,
        "row": null,
        "width": 2
       }
      }
     }
    }
   },
   "outputs": [],
   "source": [
    "pv.close_all()"
   ]
  },
  {
   "cell_type": "code",
   "execution_count": 61,
   "id": "b2d0ea45-aff1-4657-b55a-7550aab6ec6a",
   "metadata": {
    "extensions": {
     "jupyter_dashboards": {
      "activeView": "grid_default",
      "views": {
       "grid_default": {
        "col": null,
        "height": 2,
        "hidden": true,
        "row": null,
        "width": 2
       }
      }
     }
    }
   },
   "outputs": [],
   "source": [
    "Qmin_plot.renderer.axes_widget.\n",
    "Qmin_plot.renderer.axes_widget.SetPriority(0)"
   ]
  },
  {
   "cell_type": "code",
   "execution_count": 69,
   "id": "3ebd9da2-d893-4966-acaa-492ee82a3646",
   "metadata": {
    "extensions": {
     "jupyter_dashboards": {
      "activeView": "grid_default",
      "views": {
       "grid_default": {
        "col": null,
        "height": 2,
        "hidden": true,
        "row": null,
        "width": 2
       }
      }
     }
    }
   },
   "outputs": [],
   "source": [
    "Qmin_plot.renderer.axes_actor.GetPosition()"
   ]
  },
  {
   "cell_type": "code",
   "execution_count": null,
   "id": "ab7e4d44-5281-4d59-b3c3-ca00e2e85884",
   "metadata": {
    "extensions": {
     "jupyter_dashboards": {
      "activeView": "grid_default",
      "views": {
       "grid_default": {
        "col": null,
        "height": 2,
        "hidden": true,
        "row": null,
        "width": 2
       }
      }
     }
    }
   },
   "outputs": [],
   "source": []
  }
 ],
 "metadata": {
  "extensions": {
   "jupyter_dashboards": {
    "activeView": "grid_default",
    "version": 1,
    "views": {
     "grid_default": {
      "cellMargin": 2,
      "defaultCellHeight": 60,
      "maxColumns": 12,
      "name": "grid",
      "type": "grid"
     }
    }
   }
  },
  "kernelspec": {
   "display_name": "Qmin-vis-env8",
   "language": "python",
   "name": "qmin-vis-env8"
  },
  "language_info": {
   "codemirror_mode": {
    "name": "ipython",
    "version": 3
   },
   "file_extension": ".py",
   "mimetype": "text/x-python",
   "name": "python",
   "nbconvert_exporter": "python",
   "pygments_lexer": "ipython3",
   "version": "3.9.5"
  }
 },
 "nbformat": 4,
 "nbformat_minor": 5
}
